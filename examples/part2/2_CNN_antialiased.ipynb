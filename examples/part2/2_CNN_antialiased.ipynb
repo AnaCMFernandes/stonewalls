{
 "cells": [
  {
   "cell_type": "code",
   "execution_count": null,
   "metadata": {
    "executionInfo": {
     "elapsed": 5567,
     "status": "ok",
     "timestamp": 1617001578678,
     "user": {
      "displayName": "Ana Cristina Fernandes",
      "photoUrl": "https://lh3.googleusercontent.com/a-/AOh14GhxWgImyYG469x-VuDUv7XL0ETZZC1AXPpDJPU2Bg=s64",
      "userId": "09422173661863675273"
     },
     "user_tz": -120
    },
    "id": "CwuCFqilEHEM"
   },
   "outputs": [],
   "source": [
    "yellow_path = \"//wsl$/Ubuntu-20.04/home/afer/yellow/\"\n",
    "import sys; sys.path.append(yellow_path); sys.path.append(yellow_path + 'buteo/'); sys.path.append(yellow_path + 'buteo/machine_learning/');\n",
    "import ml_utils"
   ]
  },
  {
   "cell_type": "code",
   "execution_count": null,
   "metadata": {
    "executionInfo": {
     "elapsed": 513,
     "status": "ok",
     "timestamp": 1617001586382,
     "user": {
      "displayName": "Ana Cristina Fernandes",
      "photoUrl": "https://lh3.googleusercontent.com/a-/AOh14GhxWgImyYG469x-VuDUv7XL0ETZZC1AXPpDJPU2Bg=s64",
      "userId": "09422173661863675273"
     },
     "user_tz": -120
    },
    "id": "iZZG-91cRuoT"
   },
   "outputs": [],
   "source": [
    "import pandas as pd\n",
    "import numpy as np\n",
    "import os\n",
    "import math\n",
    "\n",
    "from sklearn.model_selection import train_test_split\n",
    "\n",
    "import matplotlib.pyplot as plt\n",
    "\n",
    "# Tensorflow\n",
    "from tensorflow.keras import Model, Input\n",
    "from tensorflow.keras.layers import Conv2D, MaxPool2D, Conv2DTranspose, Concatenate, Flatten, Dense\n",
    "from tensorflow.keras.optimizers import Adam\n",
    "from tensorflow.keras.callbacks import EarlyStopping, LearningRateScheduler\n",
    "import tensorflow_addons as tfa\n",
    "\n",
    "\n",
    "os.environ['TF_FORCE_GPU_ALLOW_GROWTH'] = 'true'"
   ]
  },
  {
   "cell_type": "code",
   "execution_count": null,
   "metadata": {
    "executionInfo": {
     "elapsed": 31226,
     "status": "ok",
     "timestamp": 1617001625839,
     "user": {
      "displayName": "Ana Cristina Fernandes",
      "photoUrl": "https://lh3.googleusercontent.com/a-/AOh14GhxWgImyYG469x-VuDUv7XL0ETZZC1AXPpDJPU2Bg=s64",
      "userId": "09422173661863675273"
     },
     "user_tz": -120
    },
    "id": "Iw1oWcZYYFa1"
   },
   "outputs": [],
   "source": [
    "X1 = np.load('C:/Users/AFER/Documents/Projects/StoneWalls/Data/stonewalls/Aeroe/training_data/antialiased_data/patches_singlepart/dtm_aeroe_singlepart.npy')\n",
    "y = np.load('C:/Users/AFER/Documents/Projects/StoneWalls/Data/stonewalls/Aeroe/training_data/antialiased_data/patches_singlepart/walls_singlepart_singlepart.npy')"
   ]
  },
  {
   "cell_type": "code",
   "execution_count": null,
   "metadata": {},
   "outputs": [],
   "source": [
    "#X2 = np.load('C:/Users/AFER/Documents/Projects/StoneWalls/Data/stonewalls/Aeroe/training_data/antialiased_data/patches_singlepart/dsm_aeroe_singlepart.npy')\n",
    "X3 = np.load('C:/Users/AFER/Documents/Projects/StoneWalls/Data/stonewalls/Aeroe/training_data/antialiased_data/patches_singlepart/hot_aeroe_singlepart.npy')"
   ]
  },
  {
   "cell_type": "code",
   "execution_count": null,
   "metadata": {},
   "outputs": [],
   "source": [
    "X = np.stack((X1, X3), axis=3)\n",
    "print(X.shape)"
   ]
  },
  {
   "cell_type": "code",
   "execution_count": null,
   "metadata": {},
   "outputs": [],
   "source": [
    "#Remove the extra axis on the stacked array\n",
    "X = X[..., 0]\n",
    "print(X.shape)\n",
    "print(y.shape)"
   ]
  },
  {
   "cell_type": "code",
   "execution_count": null,
   "metadata": {},
   "outputs": [],
   "source": [
    "#If the data used is still with duplicates (previous version of extract_patches version)\n",
    "meta_dups = pd.read_csv('C:/Users/AFER/Documents/Projects/StoneWalls/Data/stonewalls/Aeroe/training_data/antialiased_data/patches_singlepart/dups_mask.csv')\n",
    "\n",
    "dups_mask = ~meta_dups['og_fid'].duplicated()\n",
    "\n",
    "X = X[dups_mask]\n",
    "y = y[dups_mask]\n",
    "\n",
    "print(X.shape)\n",
    "print(y.shape)"
   ]
  },
  {
   "cell_type": "markdown",
   "metadata": {
    "id": "qX4oHrOhAGAW"
   },
   "source": [
    "#### **Adding ABSENCE data**"
   ]
  },
  {
   "cell_type": "code",
   "execution_count": null,
   "metadata": {
    "id": "OE8fuB9OIHXO"
   },
   "outputs": [],
   "source": [
    "#CREATE PURE PRESENCE BY REMOVING ABSENCES THAT MIGHT EXIST AROUND PATCH EXTRACTION BY THE WALLS\n",
    "\n",
    "# presence_mask = np.sum(y, axis=(1, 2)) > 0\n",
    "# X = X[presence_mask]\n",
    "# y = y[presence_mask]"
   ]
  },
  {
   "cell_type": "code",
   "execution_count": null,
   "metadata": {
    "id": "snIfKG0pkSsS"
   },
   "outputs": [],
   "source": [
    "# X_absence = np.load('/content/drive/MyDrive/Colab Notebooks/training_data/absence_only/dtm_aeroe_absence.npy')\n",
    "# y_absence = np.load('/content/drive/MyDrive/Colab Notebooks/training_data/absence_only/absence_rasterized_absence.npy')\n",
    "\n",
    "# len(X_absence)"
   ]
  },
  {
   "cell_type": "code",
   "execution_count": null,
   "metadata": {
    "id": "Wccr9shMxWU9"
   },
   "outputs": [],
   "source": [
    "#CHANGE THIS NUMBER HERE TO CHANGE HOW MUCH ABSENCE DATA TO ADD\n",
    "\n",
    "# #EXAMPLES:\n",
    "# ADD 500 ABSENCES\n",
    "# X_absence = X_absence[:500]\n",
    "# y_absence = y_absence[:500]\n",
    "# ADD 500 DIFFERENT ABSENCES\n",
    "# X_absence = X_absence[500:1000]\n",
    "# y_absence = y_absence[500:1000]\n",
    "\n",
    "#default is to add no absence (if you check is empty)\n",
    "# X_absence = X_absence[:0]\n",
    "# y_absence = y_absence[:0]"
   ]
  },
  {
   "cell_type": "code",
   "execution_count": null,
   "metadata": {
    "id": "H4nIAGNxlHyR"
   },
   "outputs": [],
   "source": [
    "# add the presence and absence data together - if there is no absence then this does nothing, but is fine to run anyway\n",
    "# X = np.concatenate([X, X_absence])\n",
    "# y = np.concatenate([y, y_absence])\n",
    "\n"
   ]
  },
  {
   "cell_type": "markdown",
   "metadata": {
    "id": "uihB64vaAQQE"
   },
   "source": [
    "#### **Proceed here for PRESENCE only**"
   ]
  },
  {
   "cell_type": "code",
   "execution_count": null,
   "metadata": {
    "id": "MiFhtYNcUBSU"
   },
   "outputs": [],
   "source": [
    "# X = ml_utils.add_rotations(X)\n",
    "# y = ml_utils.add_rotations(y)"
   ]
  },
  {
   "cell_type": "code",
   "execution_count": null,
   "metadata": {
    "executionInfo": {
     "elapsed": 571,
     "status": "ok",
     "timestamp": 1617001689110,
     "user": {
      "displayName": "Ana Cristina Fernandes",
      "photoUrl": "https://lh3.googleusercontent.com/a-/AOh14GhxWgImyYG469x-VuDUv7XL0ETZZC1AXPpDJPU2Bg=s64",
      "userId": "09422173661863675273"
     },
     "user_tz": -120
    },
    "id": "HP9fufxxzOwO"
   },
   "outputs": [],
   "source": [
    "# multiply labels by 1000\n",
    "y = np.multiply(y, 1000)\n"
   ]
  },
  {
   "cell_type": "code",
   "execution_count": null,
   "metadata": {},
   "outputs": [],
   "source": [
    "meta = pd.read_csv('C:/Users/AFER/Documents/Projects/StoneWalls/Data/stonewalls/Aeroe/training_data/antialiased_data/patches_dissolved/test_area/test_area_dissolved.csv')\n",
    "\n",
    "train_mask = np.swapaxes(meta[meta[\"test_area\"] == 0].values, 0, 1)[0]\n",
    "test_mask = np.swapaxes(meta[meta[\"test_area\"] == 1].values, 0, 1)[0]"
   ]
  },
  {
   "cell_type": "code",
   "execution_count": null,
   "metadata": {
    "executionInfo": {
     "elapsed": 881,
     "status": "ok",
     "timestamp": 1617001690575,
     "user": {
      "displayName": "Ana Cristina Fernandes",
      "photoUrl": "https://lh3.googleusercontent.com/a-/AOh14GhxWgImyYG469x-VuDUv7XL0ETZZC1AXPpDJPU2Bg=s64",
      "userId": "09422173661863675273"
     },
     "user_tz": -120
    },
    "id": "TMQ6YVvXYGaT"
   },
   "outputs": [],
   "source": [
    "#add the masks to the X and y data in order to create the training and testing areas split\n",
    "X_train = X[train_mask]\n",
    "X_test = X[test_mask]\n",
    "y_train = y[train_mask]\n",
    "y_test = y[test_mask]"
   ]
  },
  {
   "cell_type": "code",
   "execution_count": null,
   "metadata": {
    "colab": {
     "base_uri": "https://localhost:8080/"
    },
    "executionInfo": {
     "elapsed": 512,
     "status": "ok",
     "timestamp": 1617001691737,
     "user": {
      "displayName": "Ana Cristina Fernandes",
      "photoUrl": "https://lh3.googleusercontent.com/a-/AOh14GhxWgImyYG469x-VuDUv7XL0ETZZC1AXPpDJPU2Bg=s64",
      "userId": "09422173661863675273"
     },
     "user_tz": -120
    },
    "id": "EYoqYJPpUbg_",
    "outputId": "3a55e440-e122-41fe-d1c1-2be157f40ed9"
   },
   "outputs": [],
   "source": [
    "print(X_train.shape)\n",
    "print(y_train.shape)"
   ]
  },
  {
   "cell_type": "code",
   "execution_count": null,
   "metadata": {
    "colab": {
     "base_uri": "https://localhost:8080/"
    },
    "executionInfo": {
     "elapsed": 2586,
     "status": "ok",
     "timestamp": 1617001700857,
     "user": {
      "displayName": "Ana Cristina Fernandes",
      "photoUrl": "https://lh3.googleusercontent.com/a-/AOh14GhxWgImyYG469x-VuDUv7XL0ETZZC1AXPpDJPU2Bg=s64",
      "userId": "09422173661863675273"
     },
     "user_tz": -120
    },
    "id": "-ZP54Z2EId69",
    "outputId": "8f385b36-37ec-4a19-cc63-342c3f330a27"
   },
   "outputs": [],
   "source": [
    "# print(len(X_train))\n",
    "X_train = ml_utils.add_rotations(X_train)\n",
    "X_test = ml_utils.add_rotations(X_test)\n",
    "y_train = ml_utils.add_rotations(y_train)\n",
    "y_test = ml_utils.add_rotations(y_test)\n",
    "print(len(X_train))\n"
   ]
  },
  {
   "cell_type": "code",
   "execution_count": null,
   "metadata": {
    "executionInfo": {
     "elapsed": 1614,
     "status": "ok",
     "timestamp": 1617001706879,
     "user": {
      "displayName": "Ana Cristina Fernandes",
      "photoUrl": "https://lh3.googleusercontent.com/a-/AOh14GhxWgImyYG469x-VuDUv7XL0ETZZC1AXPpDJPU2Bg=s64",
      "userId": "09422173661863675273"
     },
     "user_tz": -120
    },
    "id": "pz9Je8lXYSiq"
   },
   "outputs": [],
   "source": [
    "# shuffle the datasets. Could be interesting to see if this actually makes a difference, in which case dont run this cell\n",
    "# np.random.seed(42)\n",
    "# train_shuffle_mask = np.random.permutation(len(X_train))\n",
    "# X_train = X_train[train_shuffle_mask]\n",
    "# y_train = y_train[train_shuffle_mask]\n",
    "\n",
    "# test_shuffle_mask = np.random.permutation(len(X_test))\n",
    "# X_test = X_test[test_shuffle_mask]\n",
    "# y_test = y_test[test_shuffle_mask]"
   ]
  },
  {
   "cell_type": "code",
   "execution_count": null,
   "metadata": {
    "colab": {
     "base_uri": "https://localhost:8080/"
    },
    "executionInfo": {
     "elapsed": 522,
     "status": "ok",
     "timestamp": 1617001709683,
     "user": {
      "displayName": "Ana Cristina Fernandes",
      "photoUrl": "https://lh3.googleusercontent.com/a-/AOh14GhxWgImyYG469x-VuDUv7XL0ETZZC1AXPpDJPU2Bg=s64",
      "userId": "09422173661863675273"
     },
     "user_tz": -120
    },
    "id": "do4uDHUFa_Tg",
    "outputId": "ecbe5efe-e892-469d-d0fa-f6318eaa544f"
   },
   "outputs": [],
   "source": [
    "# check all the datasets match up in number\n",
    "print(X_train.shape)\n",
    "print(y_train.shape)\n",
    "print(X_test.shape)\n",
    "print(y_test.shape)"
   ]
  },
  {
   "cell_type": "markdown",
   "metadata": {
    "id": "VEf2RDJtzr7k"
   },
   "source": [
    "VERIFY THAT THESE TWO IMAGES CORRESPOND"
   ]
  },
  {
   "cell_type": "code",
   "execution_count": null,
   "metadata": {
    "colab": {
     "base_uri": "https://localhost:8080/",
     "height": 285
    },
    "executionInfo": {
     "elapsed": 983,
     "status": "ok",
     "timestamp": 1616943275498,
     "user": {
      "displayName": "Ana Cristina Fernandes",
      "photoUrl": "https://lh3.googleusercontent.com/a-/AOh14GhxWgImyYG469x-VuDUv7XL0ETZZC1AXPpDJPU2Bg=s64",
      "userId": "09422173661863675273"
     },
     "user_tz": -120
    },
    "id": "9ddM7uH_fjS_",
    "outputId": "6cd52424-7092-4317-d104-8128c84d8374"
   },
   "outputs": [],
   "source": [
    "plt.imshow(np.reshape(X_train[2], (64,64)))"
   ]
  },
  {
   "cell_type": "code",
   "execution_count": null,
   "metadata": {
    "colab": {
     "base_uri": "https://localhost:8080/",
     "height": 285
    },
    "executionInfo": {
     "elapsed": 919,
     "status": "ok",
     "timestamp": 1616943283849,
     "user": {
      "displayName": "Ana Cristina Fernandes",
      "photoUrl": "https://lh3.googleusercontent.com/a-/AOh14GhxWgImyYG469x-VuDUv7XL0ETZZC1AXPpDJPU2Bg=s64",
      "userId": "09422173661863675273"
     },
     "user_tz": -120
    },
    "id": "VII753FIge95",
    "outputId": "4c72e40f-7ec1-475a-e2e2-9d9eb193f6e0"
   },
   "outputs": [],
   "source": [
    "plt.imshow(np.reshape(y_train[2], (64,64)))"
   ]
  },
  {
   "cell_type": "markdown",
   "metadata": {
    "id": "falErB7tyX4g"
   },
   "source": [
    "# DEFINE AND RUN MODEL"
   ]
  },
  {
   "cell_type": "code",
   "execution_count": null,
   "metadata": {
    "executionInfo": {
     "elapsed": 567,
     "status": "ok",
     "timestamp": 1617001713021,
     "user": {
      "displayName": "Ana Cristina Fernandes",
      "photoUrl": "https://lh3.googleusercontent.com/a-/AOh14GhxWgImyYG469x-VuDUv7XL0ETZZC1AXPpDJPU2Bg=s64",
      "userId": "09422173661863675273"
     },
     "user_tz": -120
    },
    "id": "Au0Urs6ygB77"
   },
   "outputs": [],
   "source": [
    "shape = (X_train.shape[1:])"
   ]
  },
  {
   "cell_type": "code",
   "execution_count": null,
   "metadata": {
    "colab": {
     "base_uri": "https://localhost:8080/"
    },
    "executionInfo": {
     "elapsed": 808,
     "status": "ok",
     "timestamp": 1617001716483,
     "user": {
      "displayName": "Ana Cristina Fernandes",
      "photoUrl": "https://lh3.googleusercontent.com/a-/AOh14GhxWgImyYG469x-VuDUv7XL0ETZZC1AXPpDJPU2Bg=s64",
      "userId": "09422173661863675273"
     },
     "user_tz": -120
    },
    "id": "e05yTz3kylFj",
    "outputId": "58c3ae35-5b69-4e04-cc40-7a8de6181b53"
   },
   "outputs": [],
   "source": [
    "def define_model(shape, name, activation=tfa.activations.mish, sizes=[32, 64, 96, 128], double=True, pool=\"max\", padding=[\"same\", \"valid\"]):\n",
    "    model_input = Input(shape=shape, name=name)\n",
    "    model = Conv2D(sizes[0], kernel_size=3,\n",
    "        padding=padding[0],\n",
    "        activation=activation,\n",
    "    )(model_input)\n",
    "    if double:\n",
    "        modelskip1 = Conv2D(sizes[0], kernel_size=3,\n",
    "            padding=padding[0],\n",
    "            activation=activation,\n",
    "        )(model)\n",
    "    if pool == 'max':\n",
    "          model = MaxPool2D(padding=padding[0])(modelskip1)\n",
    "    if pool == 'average':\n",
    "          model = AveragePooling2D(padding=padding[0])(modelskip1)\n",
    "    \n",
    "    model = Conv2D(sizes[1], kernel_size=3,\n",
    "        padding=padding[0],\n",
    "        activation=activation,\n",
    "    )(model)\n",
    "    if double:\n",
    "        modelskip2 = Conv2D(sizes[1], kernel_size=3,\n",
    "            padding=padding[0],\n",
    "            activation=activation,\n",
    "        )(model)\n",
    "    if pool == 'max':\n",
    "        model = MaxPool2D(padding=padding[0])(modelskip2)\n",
    "    if pool == 'average':\n",
    "        model = AveragePooling2D(padding=padding[0])(modelskip2)\n",
    "    \n",
    "    model = Conv2D(sizes[2], kernel_size=3,\n",
    "        padding=padding[0],\n",
    "        activation=activation,\n",
    "    )(model)\n",
    "    if double:    \n",
    "        model = Conv2D(sizes[2], kernel_size=3,\n",
    "            padding=padding[0],\n",
    "            activation=activation,\n",
    "        )(model)\n",
    "\n",
    "    model = Conv2DTranspose(sizes[1], kernel_size=3,\n",
    "        strides=(2,2),\n",
    "        padding=padding[0],\n",
    "        activation=activation,\n",
    "    )(model)\n",
    "\n",
    "    model = Concatenate()([modelskip2, model])\n",
    "    model = Conv2DTranspose(sizes[0], kernel_size=3,\n",
    "        strides=(2,2),\n",
    "        padding=padding[0],\n",
    "        activation=activation,\n",
    "    )(model)\n",
    "    model = Concatenate()([modelskip1, model])\n",
    "\n",
    "\n",
    "    output = Conv2D(1, kernel_size=3, padding=padding[0], activation='relu')(model)\n",
    "    return Model(inputs=[model_input], outputs=output)\n",
    "\n",
    "model = define_model(shape, name=\"vanilla\")\n",
    "model.summary()"
   ]
  },
  {
   "cell_type": "code",
   "execution_count": null,
   "metadata": {
    "colab": {
     "base_uri": "https://localhost:8080/",
     "height": 408
    },
    "executionInfo": {
     "elapsed": 21081,
     "status": "error",
     "timestamp": 1617001744908,
     "user": {
      "displayName": "Ana Cristina Fernandes",
      "photoUrl": "https://lh3.googleusercontent.com/a-/AOh14GhxWgImyYG469x-VuDUv7XL0ETZZC1AXPpDJPU2Bg=s64",
      "userId": "09422173661863675273"
     },
     "user_tz": -120
    },
    "id": "yGjgQM4JgPym",
    "outputId": "3395f2fa-b9da-4abe-b7e9-2f22c609a792"
   },
   "outputs": [],
   "source": [
    "lr = 0.001\n",
    "\n",
    "model.compile(\n",
    "    optimizer=Adam(learning_rate=lr),\n",
    "    loss='mse',\n",
    "    metrics=['log_cosh', 'mae'],\n",
    ")\n",
    "\n",
    "def step_decay(epoch):\n",
    "    initial_lrate = lr\n",
    "    drop = 0.5\n",
    "    epochs_drop = 5\n",
    "    lrate = initial_lrate * math.pow(drop, math.floor((1 + epoch) / epochs_drop))\n",
    "    return lrate\n",
    "\n",
    "results = model.fit(\n",
    "    X_train,\n",
    "    y_train,\n",
    "    epochs=10,\n",
    "    validation_split=0.2,\n",
    "    batch_size=32,\n",
    "    callbacks=[\n",
    "        LearningRateScheduler(step_decay),\n",
    "        EarlyStopping(\n",
    "            monitor=\"val_loss\",\n",
    "            patience=5,\n",
    "            min_delta=10,\n",
    "            restore_best_weights=True,\n",
    "        ),\n",
    "    ]\n",
    ")"
   ]
  },
  {
   "cell_type": "code",
   "execution_count": null,
   "metadata": {
    "colab": {
     "base_uri": "https://localhost:8080/",
     "height": 513
    },
    "executionInfo": {
     "elapsed": 962,
     "status": "ok",
     "timestamp": 1616943828655,
     "user": {
      "displayName": "Ana Cristina Fernandes",
      "photoUrl": "https://lh3.googleusercontent.com/a-/AOh14GhxWgImyYG469x-VuDUv7XL0ETZZC1AXPpDJPU2Bg=s64",
      "userId": "09422173661863675273"
     },
     "user_tz": -120
    },
    "id": "buYKWLw2gSfF",
    "outputId": "a904478a-c06d-4e2f-84a1-3d8dff639c19"
   },
   "outputs": [],
   "source": [
    "plt.figure(figsize=(8, 8))\n",
    "plt.title(\"Learning curve\")\n",
    "plt.plot(results.history[\"loss\"], label=\"loss\")\n",
    "plt.plot(results.history[\"val_loss\"], label=\"val_loss\")\n",
    "plt.plot( np.argmin(results.history[\"val_loss\"]), np.min(results.history[\"val_loss\"]), marker=\"x\", color=\"r\", label=\"best model\")\n",
    "plt.xlabel(\"Epochs\")\n",
    "plt.ylabel(\"log_loss\")\n",
    "plt.legend();"
   ]
  },
  {
   "cell_type": "code",
   "execution_count": null,
   "metadata": {
    "colab": {
     "base_uri": "https://localhost:8080/"
    },
    "executionInfo": {
     "elapsed": 3688,
     "status": "ok",
     "timestamp": 1616943971387,
     "user": {
      "displayName": "Ana Cristina Fernandes",
      "photoUrl": "https://lh3.googleusercontent.com/a-/AOh14GhxWgImyYG469x-VuDUv7XL0ETZZC1AXPpDJPU2Bg=s64",
      "userId": "09422173661863675273"
     },
     "user_tz": -120
    },
    "id": "BUB2ADm0Ofb9",
    "outputId": "ca01e9b0-9c22-4a62-835a-9f2e47dad5b3"
   },
   "outputs": [],
   "source": [
    "mse_test = model.evaluate(X_test, y_test)"
   ]
  },
  {
   "cell_type": "code",
   "execution_count": null,
   "metadata": {
    "id": "MN7w1uDYqsxZ"
   },
   "outputs": [],
   "source": [
    "import uuid\n",
    "uid = uuid.uuid4().hex\n",
    "\n",
    "out_directory = 'C:/Users/AFER/Documents/Projects/StoneWalls/Data/stonewalls/Aeroe/training_data/predictions/'\n",
    "unique_filename = out_directory + uid + '.h5'\n",
    "model.save(unique_filename)"
   ]
  }
 ],
 "metadata": {
  "accelerator": "GPU",
  "colab": {
   "collapsed_sections": [
    "qX4oHrOhAGAW"
   ],
   "name": "TESTING_train_and_predict_stonewalls_ana.ipynb",
   "provenance": [
    {
     "file_id": "1Is5QGDiNiZ86uGJmp-S231xIsIVHoG5i",
     "timestamp": 1616742239537
    },
    {
     "file_id": "1dATiHJVSh9et0PE1rsEdNiCLwqWC7d-4",
     "timestamp": 1616690586736
    },
    {
     "file_id": "1xOe6NOJHKIKgNCdajIuLA4kIF7QucMax",
     "timestamp": 1616426343179
    },
    {
     "file_id": "1XdfNPUnTxglGaYNsuNGSjMaVmTMwORS7",
     "timestamp": 1616411713798
    },
    {
     "file_id": "1z0Jvkh9RqkxIQUnRdGRA95rWdzsL9FXD",
     "timestamp": 1615281999767
    }
   ],
   "toc_visible": true
  },
  "kernelspec": {
   "display_name": "Python(tf_python)",
   "language": "python",
   "name": "tf_python"
  },
  "language_info": {
   "codemirror_mode": {
    "name": "ipython",
    "version": 3
   },
   "file_extension": ".py",
   "mimetype": "text/x-python",
   "name": "python",
   "nbconvert_exporter": "python",
   "pygments_lexer": "ipython3",
   "version": "3.8.5"
  }
 },
 "nbformat": 4,
 "nbformat_minor": 1
}