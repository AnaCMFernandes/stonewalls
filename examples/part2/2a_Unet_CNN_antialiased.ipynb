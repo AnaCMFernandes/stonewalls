{
 "cells": [
  {
   "cell_type": "code",
   "execution_count": 1,
   "metadata": {
    "executionInfo": {
     "elapsed": 5567,
     "status": "ok",
     "timestamp": 1617001578678,
     "user": {
      "displayName": "Ana Cristina Fernandes",
      "photoUrl": "https://lh3.googleusercontent.com/a-/AOh14GhxWgImyYG469x-VuDUv7XL0ETZZC1AXPpDJPU2Bg=s64",
      "userId": "09422173661863675273"
     },
     "user_tz": -120
    },
    "id": "CwuCFqilEHEM"
   },
   "outputs": [],
   "source": [
    "yellow_path = \"/mnt/c/buteo/\"\n",
    "import sys; sys.path.append(yellow_path); sys.path.append(yellow_path + 'buteo/'); sys.path.append(yellow_path + 'buteo/machine_learning/');\n",
    "import ml_utils"
   ]
  },
  {
   "cell_type": "code",
   "execution_count": 2,
   "metadata": {
    "executionInfo": {
     "elapsed": 513,
     "status": "ok",
     "timestamp": 1617001586382,
     "user": {
      "displayName": "Ana Cristina Fernandes",
      "photoUrl": "https://lh3.googleusercontent.com/a-/AOh14GhxWgImyYG469x-VuDUv7XL0ETZZC1AXPpDJPU2Bg=s64",
      "userId": "09422173661863675273"
     },
     "user_tz": -120
    },
    "id": "iZZG-91cRuoT"
   },
   "outputs": [],
   "source": [
    "import pandas as pd\n",
    "import numpy as np\n",
    "import os\n",
    "import math\n",
    "\n",
    "from sklearn.model_selection import train_test_split\n",
    "\n",
    "import matplotlib.pyplot as plt\n",
    "\n",
    "# Tensorflow\n",
    "from tensorflow.keras import Model, Input\n",
    "from tensorflow.keras.layers import Conv2D, MaxPool2D, Conv2DTranspose, Concatenate, Flatten, Dense\n",
    "from tensorflow.keras.optimizers import Adam\n",
    "from tensorflow.keras.callbacks import EarlyStopping, LearningRateScheduler\n",
    "import tensorflow_addons as tfa\n",
    "\n",
    "\n",
    "os.environ['TF_FORCE_GPU_ALLOW_GROWTH'] = 'true'"
   ]
  },
  {
   "cell_type": "code",
   "execution_count": 3,
   "metadata": {
    "executionInfo": {
     "elapsed": 31226,
     "status": "ok",
     "timestamp": 1617001625839,
     "user": {
      "displayName": "Ana Cristina Fernandes",
      "photoUrl": "https://lh3.googleusercontent.com/a-/AOh14GhxWgImyYG469x-VuDUv7XL0ETZZC1AXPpDJPU2Bg=s64",
      "userId": "09422173661863675273"
     },
     "user_tz": -120
    },
    "id": "Iw1oWcZYYFa1"
   },
   "outputs": [],
   "source": [
    "training_data_dir = '/mnt/c/Users/EZRA/Desktop/training_data/64/'\n",
    "y = np.load(training_data_dir + 'walls_singlepart_64.npy')\n",
    "X1 = np.load(training_data_dir + 'dtm_aeroe_64.npy')\n",
    "#X2 = np.load('C:/Users/AFER/Documents/Projects/StoneWalls/Data/stonewalls/Aeroe/training_data/antialiased_data/patches_singlepart/dsm_aeroe_singlepart.npy')\n",
    "X3 = np.load(training_data_dir + 'hot_aeroe_64.npy')"
   ]
  },
  {
   "cell_type": "code",
   "execution_count": 4,
   "metadata": {},
   "outputs": [
    {
     "output_type": "stream",
     "name": "stdout",
     "text": [
      "(24782, 64, 64, 2, 1)\n(24782, 64, 64, 1)\n(24782, 64, 64, 2)\n(24782, 64, 64)\n"
     ]
    }
   ],
   "source": [
    "X = np.stack((X1, X3), axis=3)\n",
    "print(X.shape)\n",
    "print(y.shape)\n",
    "\n",
    "X=X.squeeze()\n",
    "y=y.squeeze()\n",
    "\n",
    "print(X.shape)\n",
    "print(y.shape)\n"
   ]
  },
  {
   "cell_type": "code",
   "execution_count": null,
   "metadata": {},
   "outputs": [],
   "source": [
    "#Remove the extra axis on the stacked array\n",
    "X = X[..., 0]\n",
    "print(X.shape)\n",
    "print(y.shape)"
   ]
  },
  {
   "cell_type": "code",
   "execution_count": null,
   "metadata": {},
   "outputs": [],
   "source": [
    "#If the data used is still with duplicates (previous version of extract_patches version)\n"
   ]
  },
  {
   "cell_type": "markdown",
   "metadata": {
    "id": "qX4oHrOhAGAW"
   },
   "source": [
    "#### **Adding ABSENCE data**"
   ]
  },
  {
   "cell_type": "code",
   "execution_count": null,
   "metadata": {
    "id": "OE8fuB9OIHXO"
   },
   "outputs": [],
   "source": [
    "#CREATE PURE PRESENCE BY REMOVING ABSENCES THAT MIGHT EXIST AROUND PATCH EXTRACTION BY THE WALLS\n",
    "\n",
    "# presence_mask = np.sum(y, axis=(1, 2)) > 0\n",
    "# X = X[presence_mask]\n",
    "# y = y[presence_mask]"
   ]
  },
  {
   "cell_type": "code",
   "execution_count": null,
   "metadata": {
    "id": "snIfKG0pkSsS"
   },
   "outputs": [],
   "source": [
    "# X_absence = np.load('/content/drive/MyDrive/Colab Notebooks/training_data/absence_only/dtm_aeroe_absence.npy')\n",
    "# y_absence = np.load('/content/drive/MyDrive/Colab Notebooks/training_data/absence_only/absence_rasterized_absence.npy')\n",
    "\n",
    "# len(X_absence)"
   ]
  },
  {
   "cell_type": "code",
   "execution_count": null,
   "metadata": {
    "id": "Wccr9shMxWU9"
   },
   "outputs": [],
   "source": [
    "#CHANGE THIS NUMBER HERE TO CHANGE HOW MUCH ABSENCE DATA TO ADD\n",
    "\n",
    "# #EXAMPLES:\n",
    "# ADD 500 ABSENCES\n",
    "# X_absence = X_absence[:500]\n",
    "# y_absence = y_absence[:500]\n",
    "# ADD 500 DIFFERENT ABSENCES\n",
    "# X_absence = X_absence[500:1000]\n",
    "# y_absence = y_absence[500:1000]\n",
    "\n",
    "#default is to add no absence (if you check is empty)\n",
    "# X_absence = X_absence[:0]\n",
    "# y_absence = y_absence[:0]"
   ]
  },
  {
   "cell_type": "code",
   "execution_count": null,
   "metadata": {
    "id": "H4nIAGNxlHyR"
   },
   "outputs": [],
   "source": [
    "# add the presence and absence data together - if there is no absence then this does nothing, but is fine to run anyway\n",
    "# X = np.concatenate([X, X_absence])\n",
    "# y = np.concatenate([y, y_absence])\n",
    "\n"
   ]
  },
  {
   "cell_type": "markdown",
   "metadata": {
    "id": "uihB64vaAQQE"
   },
   "source": [
    "#### **Proceed here for PRESENCE only**"
   ]
  },
  {
   "cell_type": "code",
   "execution_count": null,
   "metadata": {
    "id": "MiFhtYNcUBSU"
   },
   "outputs": [],
   "source": [
    "# X = ml_utils.add_rotations(X)\n",
    "# y = ml_utils.add_rotations(y)"
   ]
  },
  {
   "cell_type": "code",
   "execution_count": 5,
   "metadata": {
    "executionInfo": {
     "elapsed": 571,
     "status": "ok",
     "timestamp": 1617001689110,
     "user": {
      "displayName": "Ana Cristina Fernandes",
      "photoUrl": "https://lh3.googleusercontent.com/a-/AOh14GhxWgImyYG469x-VuDUv7XL0ETZZC1AXPpDJPU2Bg=s64",
      "userId": "09422173661863675273"
     },
     "user_tz": -120
    },
    "id": "HP9fufxxzOwO"
   },
   "outputs": [],
   "source": [
    "# multiply labels by 1000\n",
    "y = np.multiply(y, 1000)\n"
   ]
  },
  {
   "cell_type": "code",
   "execution_count": 6,
   "metadata": {},
   "outputs": [],
   "source": [
    "meta = pd.read_csv(training_data_dir + 'test_area_64.csv')\n",
    "\n",
    "train_mask = np.swapaxes(meta[meta[\"test_area\"] == 0].values, 0, 1)[0]\n",
    "test_mask = np.swapaxes(meta[meta[\"test_area\"] == 1].values, 0, 1)[0]"
   ]
  },
  {
   "cell_type": "code",
   "execution_count": 7,
   "metadata": {
    "executionInfo": {
     "elapsed": 881,
     "status": "ok",
     "timestamp": 1617001690575,
     "user": {
      "displayName": "Ana Cristina Fernandes",
      "photoUrl": "https://lh3.googleusercontent.com/a-/AOh14GhxWgImyYG469x-VuDUv7XL0ETZZC1AXPpDJPU2Bg=s64",
      "userId": "09422173661863675273"
     },
     "user_tz": -120
    },
    "id": "TMQ6YVvXYGaT"
   },
   "outputs": [],
   "source": [
    "#add the masks to the X and y data in order to create the training and testing areas split\n",
    "X_train = X[train_mask]\n",
    "X_test = X[test_mask]\n",
    "y_train = y[train_mask]\n",
    "y_test = y[test_mask]"
   ]
  },
  {
   "cell_type": "code",
   "execution_count": 8,
   "metadata": {
    "colab": {
     "base_uri": "https://localhost:8080/"
    },
    "executionInfo": {
     "elapsed": 512,
     "status": "ok",
     "timestamp": 1617001691737,
     "user": {
      "displayName": "Ana Cristina Fernandes",
      "photoUrl": "https://lh3.googleusercontent.com/a-/AOh14GhxWgImyYG469x-VuDUv7XL0ETZZC1AXPpDJPU2Bg=s64",
      "userId": "09422173661863675273"
     },
     "user_tz": -120
    },
    "id": "EYoqYJPpUbg_",
    "outputId": "3a55e440-e122-41fe-d1c1-2be157f40ed9"
   },
   "outputs": [
    {
     "output_type": "stream",
     "name": "stdout",
     "text": [
      "(15640, 64, 64, 2)\n(15640, 64, 64)\n"
     ]
    }
   ],
   "source": [
    "print(X_train.shape)\n",
    "print(y_train.shape)"
   ]
  },
  {
   "cell_type": "code",
   "execution_count": 9,
   "metadata": {
    "colab": {
     "base_uri": "https://localhost:8080/"
    },
    "executionInfo": {
     "elapsed": 2586,
     "status": "ok",
     "timestamp": 1617001700857,
     "user": {
      "displayName": "Ana Cristina Fernandes",
      "photoUrl": "https://lh3.googleusercontent.com/a-/AOh14GhxWgImyYG469x-VuDUv7XL0ETZZC1AXPpDJPU2Bg=s64",
      "userId": "09422173661863675273"
     },
     "user_tz": -120
    },
    "id": "-ZP54Z2EId69",
    "outputId": "8f385b36-37ec-4a19-cc63-342c3f330a27"
   },
   "outputs": [
    {
     "output_type": "stream",
     "name": "stdout",
     "text": [
      "62560\n"
     ]
    }
   ],
   "source": [
    "# print(len(X_train))\n",
    "X_train = ml_utils.add_rotations(X_train)\n",
    "X_test = ml_utils.add_rotations(X_test)\n",
    "y_train = ml_utils.add_rotations(y_train)\n",
    "y_test = ml_utils.add_rotations(y_test)\n",
    "print(len(X_train))\n"
   ]
  },
  {
   "cell_type": "code",
   "execution_count": null,
   "metadata": {
    "executionInfo": {
     "elapsed": 1614,
     "status": "ok",
     "timestamp": 1617001706879,
     "user": {
      "displayName": "Ana Cristina Fernandes",
      "photoUrl": "https://lh3.googleusercontent.com/a-/AOh14GhxWgImyYG469x-VuDUv7XL0ETZZC1AXPpDJPU2Bg=s64",
      "userId": "09422173661863675273"
     },
     "user_tz": -120
    },
    "id": "pz9Je8lXYSiq"
   },
   "outputs": [],
   "source": [
    "# shuffle the datasets. Could be interesting to see if this actually makes a difference, in which case dont run this cell\n",
    "# np.random.seed(42)\n",
    "# train_shuffle_mask = np.random.permutation(len(X_train))\n",
    "# X_train = X_train[train_shuffle_mask]\n",
    "# y_train = y_train[train_shuffle_mask]\n",
    "\n",
    "# test_shuffle_mask = np.random.permutation(len(X_test))\n",
    "# X_test = X_test[test_shuffle_mask]\n",
    "# y_test = y_test[test_shuffle_mask]"
   ]
  },
  {
   "cell_type": "code",
   "execution_count": 10,
   "metadata": {
    "colab": {
     "base_uri": "https://localhost:8080/"
    },
    "executionInfo": {
     "elapsed": 522,
     "status": "ok",
     "timestamp": 1617001709683,
     "user": {
      "displayName": "Ana Cristina Fernandes",
      "photoUrl": "https://lh3.googleusercontent.com/a-/AOh14GhxWgImyYG469x-VuDUv7XL0ETZZC1AXPpDJPU2Bg=s64",
      "userId": "09422173661863675273"
     },
     "user_tz": -120
    },
    "id": "do4uDHUFa_Tg",
    "outputId": "ecbe5efe-e892-469d-d0fa-f6318eaa544f"
   },
   "outputs": [
    {
     "output_type": "stream",
     "name": "stdout",
     "text": [
      "(62560, 64, 64, 2)\n(62560, 64, 64)\n(36568, 64, 64, 2)\n(36568, 64, 64)\n"
     ]
    }
   ],
   "source": [
    "# check all the datasets match up in number\n",
    "print(X_train.shape)\n",
    "print(y_train.shape)\n",
    "print(X_test.shape)\n",
    "print(y_test.shape)"
   ]
  },
  {
   "cell_type": "markdown",
   "metadata": {
    "id": "VEf2RDJtzr7k"
   },
   "source": [
    "VERIFY THAT THESE TWO IMAGES CORRESPOND"
   ]
  },
  {
   "cell_type": "code",
   "execution_count": 24,
   "metadata": {
    "colab": {
     "base_uri": "https://localhost:8080/",
     "height": 285
    },
    "executionInfo": {
     "elapsed": 983,
     "status": "ok",
     "timestamp": 1616943275498,
     "user": {
      "displayName": "Ana Cristina Fernandes",
      "photoUrl": "https://lh3.googleusercontent.com/a-/AOh14GhxWgImyYG469x-VuDUv7XL0ETZZC1AXPpDJPU2Bg=s64",
      "userId": "09422173661863675273"
     },
     "user_tz": -120
    },
    "id": "9ddM7uH_fjS_",
    "outputId": "6cd52424-7092-4317-d104-8128c84d8374"
   },
   "outputs": [
    {
     "output_type": "execute_result",
     "data": {
      "text/plain": [
       "<matplotlib.image.AxesImage at 0x7f2a1a25b6d0>"
      ]
     },
     "metadata": {},
     "execution_count": 24
    },
    {
     "output_type": "display_data",
     "data": {
      "text/plain": "<Figure size 432x288 with 1 Axes>",
      "image/svg+xml": "<?xml version=\"1.0\" encoding=\"utf-8\" standalone=\"no\"?>\n<!DOCTYPE svg PUBLIC \"-//W3C//DTD SVG 1.1//EN\"\n  \"http://www.w3.org/Graphics/SVG/1.1/DTD/svg11.dtd\">\n<svg height=\"250.618594pt\" version=\"1.1\" viewBox=\"0 0 251.565 250.618594\" width=\"251.565pt\" xmlns=\"http://www.w3.org/2000/svg\" xmlns:xlink=\"http://www.w3.org/1999/xlink\">\n <metadata>\n  <rdf:RDF xmlns:cc=\"http://creativecommons.org/ns#\" xmlns:dc=\"http://purl.org/dc/elements/1.1/\" xmlns:rdf=\"http://www.w3.org/1999/02/22-rdf-syntax-ns#\">\n   <cc:Work>\n    <dc:type rdf:resource=\"http://purl.org/dc/dcmitype/StillImage\"/>\n    <dc:date>2021-05-03T15:27:15.065862</dc:date>\n    <dc:format>image/svg+xml</dc:format>\n    <dc:creator>\n     <cc:Agent>\n      <dc:title>Matplotlib v3.4.1, https://matplotlib.org/</dc:title>\n     </cc:Agent>\n    </dc:creator>\n   </cc:Work>\n  </rdf:RDF>\n </metadata>\n <defs>\n  <style type=\"text/css\">*{stroke-linecap:butt;stroke-linejoin:round;}</style>\n </defs>\n <g id=\"figure_1\">\n  <g id=\"patch_1\">\n   <path d=\"M 0 250.618594 \nL 251.565 250.618594 \nL 251.565 0 \nL 0 0 \nz\n\" style=\"fill:none;\"/>\n  </g>\n  <g id=\"axes_1\">\n   <g id=\"patch_2\">\n    <path d=\"M 26.925 226.740469 \nL 244.365 226.740469 \nL 244.365 9.300469 \nL 26.925 9.300469 \nz\n\" style=\"fill:#ffffff;\"/>\n   </g>\n   <g clip-path=\"url(#p786fa250b1)\">\n    <image height=\"218\" id=\"image1b0f10e50c\" transform=\"scale(1 -1)translate(0 -218)\" width=\"218\" x=\"26.925\" xlink:href=\"data:image/png;base64,\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\" y=\"-8.740469\"/>\n   </g>\n   <g id=\"matplotlib.axis_1\">\n    <g id=\"xtick_1\">\n     <g id=\"line2d_1\">\n      <defs>\n       <path d=\"M 0 0 \nL 0 3.5 \n\" id=\"m14d88b2a60\" style=\"stroke:#000000;stroke-width:0.8;\"/>\n      </defs>\n      <g>\n       <use style=\"stroke:#000000;stroke-width:0.8;\" x=\"28.62375\" xlink:href=\"#m14d88b2a60\" y=\"226.740469\"/>\n      </g>\n     </g>\n     <g id=\"text_1\">\n      <!-- 0 -->\n      <g transform=\"translate(25.4425 241.338906)scale(0.1 -0.1)\">\n       <defs>\n        <path d=\"M 2034 4250 \nQ 1547 4250 1301 3770 \nQ 1056 3291 1056 2328 \nQ 1056 1369 1301 889 \nQ 1547 409 2034 409 \nQ 2525 409 2770 889 \nQ 3016 1369 3016 2328 \nQ 3016 3291 2770 3770 \nQ 2525 4250 2034 4250 \nz\nM 2034 4750 \nQ 2819 4750 3233 4129 \nQ 3647 3509 3647 2328 \nQ 3647 1150 3233 529 \nQ 2819 -91 2034 -91 \nQ 1250 -91 836 529 \nQ 422 1150 422 2328 \nQ 422 3509 836 4129 \nQ 1250 4750 2034 4750 \nz\n\" id=\"DejaVuSans-30\" transform=\"scale(0.015625)\"/>\n       </defs>\n       <use xlink:href=\"#DejaVuSans-30\"/>\n      </g>\n     </g>\n    </g>\n    <g id=\"xtick_2\">\n     <g id=\"line2d_2\">\n      <g>\n       <use style=\"stroke:#000000;stroke-width:0.8;\" x=\"62.59875\" xlink:href=\"#m14d88b2a60\" y=\"226.740469\"/>\n      </g>\n     </g>\n     <g id=\"text_2\">\n      <!-- 10 -->\n      <g transform=\"translate(56.23625 241.338906)scale(0.1 -0.1)\">\n       <defs>\n        <path d=\"M 794 531 \nL 1825 531 \nL 1825 4091 \nL 703 3866 \nL 703 4441 \nL 1819 4666 \nL 2450 4666 \nL 2450 531 \nL 3481 531 \nL 3481 0 \nL 794 0 \nL 794 531 \nz\n\" id=\"DejaVuSans-31\" transform=\"scale(0.015625)\"/>\n       </defs>\n       <use xlink:href=\"#DejaVuSans-31\"/>\n       <use x=\"63.623047\" xlink:href=\"#DejaVuSans-30\"/>\n      </g>\n     </g>\n    </g>\n    <g id=\"xtick_3\">\n     <g id=\"line2d_3\">\n      <g>\n       <use style=\"stroke:#000000;stroke-width:0.8;\" x=\"96.57375\" xlink:href=\"#m14d88b2a60\" y=\"226.740469\"/>\n      </g>\n     </g>\n     <g id=\"text_3\">\n      <!-- 20 -->\n      <g transform=\"translate(90.21125 241.338906)scale(0.1 -0.1)\">\n       <defs>\n        <path d=\"M 1228 531 \nL 3431 531 \nL 3431 0 \nL 469 0 \nL 469 531 \nQ 828 903 1448 1529 \nQ 2069 2156 2228 2338 \nQ 2531 2678 2651 2914 \nQ 2772 3150 2772 3378 \nQ 2772 3750 2511 3984 \nQ 2250 4219 1831 4219 \nQ 1534 4219 1204 4116 \nQ 875 4013 500 3803 \nL 500 4441 \nQ 881 4594 1212 4672 \nQ 1544 4750 1819 4750 \nQ 2544 4750 2975 4387 \nQ 3406 4025 3406 3419 \nQ 3406 3131 3298 2873 \nQ 3191 2616 2906 2266 \nQ 2828 2175 2409 1742 \nQ 1991 1309 1228 531 \nz\n\" id=\"DejaVuSans-32\" transform=\"scale(0.015625)\"/>\n       </defs>\n       <use xlink:href=\"#DejaVuSans-32\"/>\n       <use x=\"63.623047\" xlink:href=\"#DejaVuSans-30\"/>\n      </g>\n     </g>\n    </g>\n    <g id=\"xtick_4\">\n     <g id=\"line2d_4\">\n      <g>\n       <use style=\"stroke:#000000;stroke-width:0.8;\" x=\"130.54875\" xlink:href=\"#m14d88b2a60\" y=\"226.740469\"/>\n      </g>\n     </g>\n     <g id=\"text_4\">\n      <!-- 30 -->\n      <g transform=\"translate(124.18625 241.338906)scale(0.1 -0.1)\">\n       <defs>\n        <path d=\"M 2597 2516 \nQ 3050 2419 3304 2112 \nQ 3559 1806 3559 1356 \nQ 3559 666 3084 287 \nQ 2609 -91 1734 -91 \nQ 1441 -91 1130 -33 \nQ 819 25 488 141 \nL 488 750 \nQ 750 597 1062 519 \nQ 1375 441 1716 441 \nQ 2309 441 2620 675 \nQ 2931 909 2931 1356 \nQ 2931 1769 2642 2001 \nQ 2353 2234 1838 2234 \nL 1294 2234 \nL 1294 2753 \nL 1863 2753 \nQ 2328 2753 2575 2939 \nQ 2822 3125 2822 3475 \nQ 2822 3834 2567 4026 \nQ 2313 4219 1838 4219 \nQ 1578 4219 1281 4162 \nQ 984 4106 628 3988 \nL 628 4550 \nQ 988 4650 1302 4700 \nQ 1616 4750 1894 4750 \nQ 2613 4750 3031 4423 \nQ 3450 4097 3450 3541 \nQ 3450 3153 3228 2886 \nQ 3006 2619 2597 2516 \nz\n\" id=\"DejaVuSans-33\" transform=\"scale(0.015625)\"/>\n       </defs>\n       <use xlink:href=\"#DejaVuSans-33\"/>\n       <use x=\"63.623047\" xlink:href=\"#DejaVuSans-30\"/>\n      </g>\n     </g>\n    </g>\n    <g id=\"xtick_5\">\n     <g id=\"line2d_5\">\n      <g>\n       <use style=\"stroke:#000000;stroke-width:0.8;\" x=\"164.52375\" xlink:href=\"#m14d88b2a60\" y=\"226.740469\"/>\n      </g>\n     </g>\n     <g id=\"text_5\">\n      <!-- 40 -->\n      <g transform=\"translate(158.16125 241.338906)scale(0.1 -0.1)\">\n       <defs>\n        <path d=\"M 2419 4116 \nL 825 1625 \nL 2419 1625 \nL 2419 4116 \nz\nM 2253 4666 \nL 3047 4666 \nL 3047 1625 \nL 3713 1625 \nL 3713 1100 \nL 3047 1100 \nL 3047 0 \nL 2419 0 \nL 2419 1100 \nL 313 1100 \nL 313 1709 \nL 2253 4666 \nz\n\" id=\"DejaVuSans-34\" transform=\"scale(0.015625)\"/>\n       </defs>\n       <use xlink:href=\"#DejaVuSans-34\"/>\n       <use x=\"63.623047\" xlink:href=\"#DejaVuSans-30\"/>\n      </g>\n     </g>\n    </g>\n    <g id=\"xtick_6\">\n     <g id=\"line2d_6\">\n      <g>\n       <use style=\"stroke:#000000;stroke-width:0.8;\" x=\"198.49875\" xlink:href=\"#m14d88b2a60\" y=\"226.740469\"/>\n      </g>\n     </g>\n     <g id=\"text_6\">\n      <!-- 50 -->\n      <g transform=\"translate(192.13625 241.338906)scale(0.1 -0.1)\">\n       <defs>\n        <path d=\"M 691 4666 \nL 3169 4666 \nL 3169 4134 \nL 1269 4134 \nL 1269 2991 \nQ 1406 3038 1543 3061 \nQ 1681 3084 1819 3084 \nQ 2600 3084 3056 2656 \nQ 3513 2228 3513 1497 \nQ 3513 744 3044 326 \nQ 2575 -91 1722 -91 \nQ 1428 -91 1123 -41 \nQ 819 9 494 109 \nL 494 744 \nQ 775 591 1075 516 \nQ 1375 441 1709 441 \nQ 2250 441 2565 725 \nQ 2881 1009 2881 1497 \nQ 2881 1984 2565 2268 \nQ 2250 2553 1709 2553 \nQ 1456 2553 1204 2497 \nQ 953 2441 691 2322 \nL 691 4666 \nz\n\" id=\"DejaVuSans-35\" transform=\"scale(0.015625)\"/>\n       </defs>\n       <use xlink:href=\"#DejaVuSans-35\"/>\n       <use x=\"63.623047\" xlink:href=\"#DejaVuSans-30\"/>\n      </g>\n     </g>\n    </g>\n    <g id=\"xtick_7\">\n     <g id=\"line2d_7\">\n      <g>\n       <use style=\"stroke:#000000;stroke-width:0.8;\" x=\"232.47375\" xlink:href=\"#m14d88b2a60\" y=\"226.740469\"/>\n      </g>\n     </g>\n     <g id=\"text_7\">\n      <!-- 60 -->\n      <g transform=\"translate(226.11125 241.338906)scale(0.1 -0.1)\">\n       <defs>\n        <path d=\"M 2113 2584 \nQ 1688 2584 1439 2293 \nQ 1191 2003 1191 1497 \nQ 1191 994 1439 701 \nQ 1688 409 2113 409 \nQ 2538 409 2786 701 \nQ 3034 994 3034 1497 \nQ 3034 2003 2786 2293 \nQ 2538 2584 2113 2584 \nz\nM 3366 4563 \nL 3366 3988 \nQ 3128 4100 2886 4159 \nQ 2644 4219 2406 4219 \nQ 1781 4219 1451 3797 \nQ 1122 3375 1075 2522 \nQ 1259 2794 1537 2939 \nQ 1816 3084 2150 3084 \nQ 2853 3084 3261 2657 \nQ 3669 2231 3669 1497 \nQ 3669 778 3244 343 \nQ 2819 -91 2113 -91 \nQ 1303 -91 875 529 \nQ 447 1150 447 2328 \nQ 447 3434 972 4092 \nQ 1497 4750 2381 4750 \nQ 2619 4750 2861 4703 \nQ 3103 4656 3366 4563 \nz\n\" id=\"DejaVuSans-36\" transform=\"scale(0.015625)\"/>\n       </defs>\n       <use xlink:href=\"#DejaVuSans-36\"/>\n       <use x=\"63.623047\" xlink:href=\"#DejaVuSans-30\"/>\n      </g>\n     </g>\n    </g>\n   </g>\n   <g id=\"matplotlib.axis_2\">\n    <g id=\"ytick_1\">\n     <g id=\"line2d_8\">\n      <defs>\n       <path d=\"M 0 0 \nL -3.5 0 \n\" id=\"m21d7882ba6\" style=\"stroke:#000000;stroke-width:0.8;\"/>\n      </defs>\n      <g>\n       <use style=\"stroke:#000000;stroke-width:0.8;\" x=\"26.925\" xlink:href=\"#m21d7882ba6\" y=\"10.999219\"/>\n      </g>\n     </g>\n     <g id=\"text_8\">\n      <!-- 0 -->\n      <g transform=\"translate(13.5625 14.798437)scale(0.1 -0.1)\">\n       <use xlink:href=\"#DejaVuSans-30\"/>\n      </g>\n     </g>\n    </g>\n    <g id=\"ytick_2\">\n     <g id=\"line2d_9\">\n      <g>\n       <use style=\"stroke:#000000;stroke-width:0.8;\" x=\"26.925\" xlink:href=\"#m21d7882ba6\" y=\"44.974219\"/>\n      </g>\n     </g>\n     <g id=\"text_9\">\n      <!-- 10 -->\n      <g transform=\"translate(7.2 48.773437)scale(0.1 -0.1)\">\n       <use xlink:href=\"#DejaVuSans-31\"/>\n       <use x=\"63.623047\" xlink:href=\"#DejaVuSans-30\"/>\n      </g>\n     </g>\n    </g>\n    <g id=\"ytick_3\">\n     <g id=\"line2d_10\">\n      <g>\n       <use style=\"stroke:#000000;stroke-width:0.8;\" x=\"26.925\" xlink:href=\"#m21d7882ba6\" y=\"78.949219\"/>\n      </g>\n     </g>\n     <g id=\"text_10\">\n      <!-- 20 -->\n      <g transform=\"translate(7.2 82.748437)scale(0.1 -0.1)\">\n       <use xlink:href=\"#DejaVuSans-32\"/>\n       <use x=\"63.623047\" xlink:href=\"#DejaVuSans-30\"/>\n      </g>\n     </g>\n    </g>\n    <g id=\"ytick_4\">\n     <g id=\"line2d_11\">\n      <g>\n       <use style=\"stroke:#000000;stroke-width:0.8;\" x=\"26.925\" xlink:href=\"#m21d7882ba6\" y=\"112.924219\"/>\n      </g>\n     </g>\n     <g id=\"text_11\">\n      <!-- 30 -->\n      <g transform=\"translate(7.2 116.723437)scale(0.1 -0.1)\">\n       <use xlink:href=\"#DejaVuSans-33\"/>\n       <use x=\"63.623047\" xlink:href=\"#DejaVuSans-30\"/>\n      </g>\n     </g>\n    </g>\n    <g id=\"ytick_5\">\n     <g id=\"line2d_12\">\n      <g>\n       <use style=\"stroke:#000000;stroke-width:0.8;\" x=\"26.925\" xlink:href=\"#m21d7882ba6\" y=\"146.899219\"/>\n      </g>\n     </g>\n     <g id=\"text_12\">\n      <!-- 40 -->\n      <g transform=\"translate(7.2 150.698437)scale(0.1 -0.1)\">\n       <use xlink:href=\"#DejaVuSans-34\"/>\n       <use x=\"63.623047\" xlink:href=\"#DejaVuSans-30\"/>\n      </g>\n     </g>\n    </g>\n    <g id=\"ytick_6\">\n     <g id=\"line2d_13\">\n      <g>\n       <use style=\"stroke:#000000;stroke-width:0.8;\" x=\"26.925\" xlink:href=\"#m21d7882ba6\" y=\"180.874219\"/>\n      </g>\n     </g>\n     <g id=\"text_13\">\n      <!-- 50 -->\n      <g transform=\"translate(7.2 184.673437)scale(0.1 -0.1)\">\n       <use xlink:href=\"#DejaVuSans-35\"/>\n       <use x=\"63.623047\" xlink:href=\"#DejaVuSans-30\"/>\n      </g>\n     </g>\n    </g>\n    <g id=\"ytick_7\">\n     <g id=\"line2d_14\">\n      <g>\n       <use style=\"stroke:#000000;stroke-width:0.8;\" x=\"26.925\" xlink:href=\"#m21d7882ba6\" y=\"214.849219\"/>\n      </g>\n     </g>\n     <g id=\"text_14\">\n      <!-- 60 -->\n      <g transform=\"translate(7.2 218.648437)scale(0.1 -0.1)\">\n       <use xlink:href=\"#DejaVuSans-36\"/>\n       <use x=\"63.623047\" xlink:href=\"#DejaVuSans-30\"/>\n      </g>\n     </g>\n    </g>\n   </g>\n   <g id=\"patch_3\">\n    <path d=\"M 26.925 226.740469 \nL 26.925 9.300469 \n\" style=\"fill:none;stroke:#000000;stroke-linecap:square;stroke-linejoin:miter;stroke-width:0.8;\"/>\n   </g>\n   <g id=\"patch_4\">\n    <path d=\"M 244.365 226.740469 \nL 244.365 9.300469 \n\" style=\"fill:none;stroke:#000000;stroke-linecap:square;stroke-linejoin:miter;stroke-width:0.8;\"/>\n   </g>\n   <g id=\"patch_5\">\n    <path d=\"M 26.925 226.740469 \nL 244.365 226.740469 \n\" style=\"fill:none;stroke:#000000;stroke-linecap:square;stroke-linejoin:miter;stroke-width:0.8;\"/>\n   </g>\n   <g id=\"patch_6\">\n    <path d=\"M 26.925 9.300469 \nL 244.365 9.300469 \n\" style=\"fill:none;stroke:#000000;stroke-linecap:square;stroke-linejoin:miter;stroke-width:0.8;\"/>\n   </g>\n  </g>\n </g>\n <defs>\n  <clipPath id=\"p786fa250b1\">\n   <rect height=\"217.44\" width=\"217.44\" x=\"26.925\" y=\"9.300469\"/>\n  </clipPath>\n </defs>\n</svg>\n",
      "image/png": "[encoded data removed]"
     },
     "metadata": {
      "needs_background": "light"
     }
    }
   ],
   "source": [
    "plt.imshow(np.reshape(X_train[2, :, :, 0], (64,64)))"
   ]
  },
  {
   "cell_type": "code",
   "execution_count": 20,
   "metadata": {},
   "outputs": [
    {
     "output_type": "execute_result",
     "data": {
      "text/plain": [
       "(64, 64)"
      ]
     },
     "metadata": {},
     "execution_count": 20
    }
   ],
   "source": [
    "X_train[0, :, :, 0].shape"
   ]
  },
  {
   "cell_type": "code",
   "execution_count": 23,
   "metadata": {
    "colab": {
     "base_uri": "https://localhost:8080/",
     "height": 285
    },
    "executionInfo": {
     "elapsed": 919,
     "status": "ok",
     "timestamp": 1616943283849,
     "user": {
      "displayName": "Ana Cristina Fernandes",
      "photoUrl": "https://lh3.googleusercontent.com/a-/AOh14GhxWgImyYG469x-VuDUv7XL0ETZZC1AXPpDJPU2Bg=s64",
      "userId": "09422173661863675273"
     },
     "user_tz": -120
    },
    "id": "VII753FIge95",
    "outputId": "4c72e40f-7ec1-475a-e2e2-9d9eb193f6e0"
   },
   "outputs": [
    {
     "output_type": "execute_result",
     "data": {
      "text/plain": [
       "<matplotlib.image.AxesImage at 0x7f2a1a31d6a0>"
      ]
     },
     "metadata": {},
     "execution_count": 23
    },
    {
     "output_type": "display_data",
     "data": {
      "text/plain": "<Figure size 432x288 with 1 Axes>",
      "image/svg+xml": "<?xml version=\"1.0\" encoding=\"utf-8\" standalone=\"no\"?>\n<!DOCTYPE svg PUBLIC \"-//W3C//DTD SVG 1.1//EN\"\n  \"http://www.w3.org/Graphics/SVG/1.1/DTD/svg11.dtd\">\n<svg height=\"250.618594pt\" version=\"1.1\" viewBox=\"0 0 251.565 250.618594\" width=\"251.565pt\" xmlns=\"http://www.w3.org/2000/svg\" xmlns:xlink=\"http://www.w3.org/1999/xlink\">\n <metadata>\n  <rdf:RDF xmlns:cc=\"http://creativecommons.org/ns#\" xmlns:dc=\"http://purl.org/dc/elements/1.1/\" xmlns:rdf=\"http://www.w3.org/1999/02/22-rdf-syntax-ns#\">\n   <cc:Work>\n    <dc:type rdf:resource=\"http://purl.org/dc/dcmitype/StillImage\"/>\n    <dc:date>2021-05-03T15:27:12.112620</dc:date>\n    <dc:format>image/svg+xml</dc:format>\n    <dc:creator>\n     <cc:Agent>\n      <dc:title>Matplotlib v3.4.1, https://matplotlib.org/</dc:title>\n     </cc:Agent>\n    </dc:creator>\n   </cc:Work>\n  </rdf:RDF>\n </metadata>\n <defs>\n  <style type=\"text/css\">*{stroke-linecap:butt;stroke-linejoin:round;}</style>\n </defs>\n <g id=\"figure_1\">\n  <g id=\"patch_1\">\n   <path d=\"M 0 250.618594 \nL 251.565 250.618594 \nL 251.565 0 \nL 0 0 \nz\n\" style=\"fill:none;\"/>\n  </g>\n  <g id=\"axes_1\">\n   <g id=\"patch_2\">\n    <path d=\"M 26.925 226.740469 \nL 244.365 226.740469 \nL 244.365 9.300469 \nL 26.925 9.300469 \nz\n\" style=\"fill:#ffffff;\"/>\n   </g>\n   <g clip-path=\"url(#pb252587773)\">\n    <image height=\"218\" id=\"image1f920fabff\" transform=\"scale(1 -1)translate(0 -218)\" width=\"218\" x=\"26.925\" xlink:href=\"data:image/png;base64,\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\" y=\"-8.740469\"/>\n   </g>\n   <g id=\"matplotlib.axis_1\">\n    <g id=\"xtick_1\">\n     <g id=\"line2d_1\">\n      <defs>\n       <path d=\"M 0 0 \nL 0 3.5 \n\" id=\"m8b32c22c73\" style=\"stroke:#000000;stroke-width:0.8;\"/>\n      </defs>\n      <g>\n       <use style=\"stroke:#000000;stroke-width:0.8;\" x=\"28.62375\" xlink:href=\"#m8b32c22c73\" y=\"226.740469\"/>\n      </g>\n     </g>\n     <g id=\"text_1\">\n      <!-- 0 -->\n      <g transform=\"translate(25.4425 241.338906)scale(0.1 -0.1)\">\n       <defs>\n        <path d=\"M 2034 4250 \nQ 1547 4250 1301 3770 \nQ 1056 3291 1056 2328 \nQ 1056 1369 1301 889 \nQ 1547 409 2034 409 \nQ 2525 409 2770 889 \nQ 3016 1369 3016 2328 \nQ 3016 3291 2770 3770 \nQ 2525 4250 2034 4250 \nz\nM 2034 4750 \nQ 2819 4750 3233 4129 \nQ 3647 3509 3647 2328 \nQ 3647 1150 3233 529 \nQ 2819 -91 2034 -91 \nQ 1250 -91 836 529 \nQ 422 1150 422 2328 \nQ 422 3509 836 4129 \nQ 1250 4750 2034 4750 \nz\n\" id=\"DejaVuSans-30\" transform=\"scale(0.015625)\"/>\n       </defs>\n       <use xlink:href=\"#DejaVuSans-30\"/>\n      </g>\n     </g>\n    </g>\n    <g id=\"xtick_2\">\n     <g id=\"line2d_2\">\n      <g>\n       <use style=\"stroke:#000000;stroke-width:0.8;\" x=\"62.59875\" xlink:href=\"#m8b32c22c73\" y=\"226.740469\"/>\n      </g>\n     </g>\n     <g id=\"text_2\">\n      <!-- 10 -->\n      <g transform=\"translate(56.23625 241.338906)scale(0.1 -0.1)\">\n       <defs>\n        <path d=\"M 794 531 \nL 1825 531 \nL 1825 4091 \nL 703 3866 \nL 703 4441 \nL 1819 4666 \nL 2450 4666 \nL 2450 531 \nL 3481 531 \nL 3481 0 \nL 794 0 \nL 794 531 \nz\n\" id=\"DejaVuSans-31\" transform=\"scale(0.015625)\"/>\n       </defs>\n       <use xlink:href=\"#DejaVuSans-31\"/>\n       <use x=\"63.623047\" xlink:href=\"#DejaVuSans-30\"/>\n      </g>\n     </g>\n    </g>\n    <g id=\"xtick_3\">\n     <g id=\"line2d_3\">\n      <g>\n       <use style=\"stroke:#000000;stroke-width:0.8;\" x=\"96.57375\" xlink:href=\"#m8b32c22c73\" y=\"226.740469\"/>\n      </g>\n     </g>\n     <g id=\"text_3\">\n      <!-- 20 -->\n      <g transform=\"translate(90.21125 241.338906)scale(0.1 -0.1)\">\n       <defs>\n        <path d=\"M 1228 531 \nL 3431 531 \nL 3431 0 \nL 469 0 \nL 469 531 \nQ 828 903 1448 1529 \nQ 2069 2156 2228 2338 \nQ 2531 2678 2651 2914 \nQ 2772 3150 2772 3378 \nQ 2772 3750 2511 3984 \nQ 2250 4219 1831 4219 \nQ 1534 4219 1204 4116 \nQ 875 4013 500 3803 \nL 500 4441 \nQ 881 4594 1212 4672 \nQ 1544 4750 1819 4750 \nQ 2544 4750 2975 4387 \nQ 3406 4025 3406 3419 \nQ 3406 3131 3298 2873 \nQ 3191 2616 2906 2266 \nQ 2828 2175 2409 1742 \nQ 1991 1309 1228 531 \nz\n\" id=\"DejaVuSans-32\" transform=\"scale(0.015625)\"/>\n       </defs>\n       <use xlink:href=\"#DejaVuSans-32\"/>\n       <use x=\"63.623047\" xlink:href=\"#DejaVuSans-30\"/>\n      </g>\n     </g>\n    </g>\n    <g id=\"xtick_4\">\n     <g id=\"line2d_4\">\n      <g>\n       <use style=\"stroke:#000000;stroke-width:0.8;\" x=\"130.54875\" xlink:href=\"#m8b32c22c73\" y=\"226.740469\"/>\n      </g>\n     </g>\n     <g id=\"text_4\">\n      <!-- 30 -->\n      <g transform=\"translate(124.18625 241.338906)scale(0.1 -0.1)\">\n       <defs>\n        <path d=\"M 2597 2516 \nQ 3050 2419 3304 2112 \nQ 3559 1806 3559 1356 \nQ 3559 666 3084 287 \nQ 2609 -91 1734 -91 \nQ 1441 -91 1130 -33 \nQ 819 25 488 141 \nL 488 750 \nQ 750 597 1062 519 \nQ 1375 441 1716 441 \nQ 2309 441 2620 675 \nQ 2931 909 2931 1356 \nQ 2931 1769 2642 2001 \nQ 2353 2234 1838 2234 \nL 1294 2234 \nL 1294 2753 \nL 1863 2753 \nQ 2328 2753 2575 2939 \nQ 2822 3125 2822 3475 \nQ 2822 3834 2567 4026 \nQ 2313 4219 1838 4219 \nQ 1578 4219 1281 4162 \nQ 984 4106 628 3988 \nL 628 4550 \nQ 988 4650 1302 4700 \nQ 1616 4750 1894 4750 \nQ 2613 4750 3031 4423 \nQ 3450 4097 3450 3541 \nQ 3450 3153 3228 2886 \nQ 3006 2619 2597 2516 \nz\n\" id=\"DejaVuSans-33\" transform=\"scale(0.015625)\"/>\n       </defs>\n       <use xlink:href=\"#DejaVuSans-33\"/>\n       <use x=\"63.623047\" xlink:href=\"#DejaVuSans-30\"/>\n      </g>\n     </g>\n    </g>\n    <g id=\"xtick_5\">\n     <g id=\"line2d_5\">\n      <g>\n       <use style=\"stroke:#000000;stroke-width:0.8;\" x=\"164.52375\" xlink:href=\"#m8b32c22c73\" y=\"226.740469\"/>\n      </g>\n     </g>\n     <g id=\"text_5\">\n      <!-- 40 -->\n      <g transform=\"translate(158.16125 241.338906)scale(0.1 -0.1)\">\n       <defs>\n        <path d=\"M 2419 4116 \nL 825 1625 \nL 2419 1625 \nL 2419 4116 \nz\nM 2253 4666 \nL 3047 4666 \nL 3047 1625 \nL 3713 1625 \nL 3713 1100 \nL 3047 1100 \nL 3047 0 \nL 2419 0 \nL 2419 1100 \nL 313 1100 \nL 313 1709 \nL 2253 4666 \nz\n\" id=\"DejaVuSans-34\" transform=\"scale(0.015625)\"/>\n       </defs>\n       <use xlink:href=\"#DejaVuSans-34\"/>\n       <use x=\"63.623047\" xlink:href=\"#DejaVuSans-30\"/>\n      </g>\n     </g>\n    </g>\n    <g id=\"xtick_6\">\n     <g id=\"line2d_6\">\n      <g>\n       <use style=\"stroke:#000000;stroke-width:0.8;\" x=\"198.49875\" xlink:href=\"#m8b32c22c73\" y=\"226.740469\"/>\n      </g>\n     </g>\n     <g id=\"text_6\">\n      <!-- 50 -->\n      <g transform=\"translate(192.13625 241.338906)scale(0.1 -0.1)\">\n       <defs>\n        <path d=\"M 691 4666 \nL 3169 4666 \nL 3169 4134 \nL 1269 4134 \nL 1269 2991 \nQ 1406 3038 1543 3061 \nQ 1681 3084 1819 3084 \nQ 2600 3084 3056 2656 \nQ 3513 2228 3513 1497 \nQ 3513 744 3044 326 \nQ 2575 -91 1722 -91 \nQ 1428 -91 1123 -41 \nQ 819 9 494 109 \nL 494 744 \nQ 775 591 1075 516 \nQ 1375 441 1709 441 \nQ 2250 441 2565 725 \nQ 2881 1009 2881 1497 \nQ 2881 1984 2565 2268 \nQ 2250 2553 1709 2553 \nQ 1456 2553 1204 2497 \nQ 953 2441 691 2322 \nL 691 4666 \nz\n\" id=\"DejaVuSans-35\" transform=\"scale(0.015625)\"/>\n       </defs>\n       <use xlink:href=\"#DejaVuSans-35\"/>\n       <use x=\"63.623047\" xlink:href=\"#DejaVuSans-30\"/>\n      </g>\n     </g>\n    </g>\n    <g id=\"xtick_7\">\n     <g id=\"line2d_7\">\n      <g>\n       <use style=\"stroke:#000000;stroke-width:0.8;\" x=\"232.47375\" xlink:href=\"#m8b32c22c73\" y=\"226.740469\"/>\n      </g>\n     </g>\n     <g id=\"text_7\">\n      <!-- 60 -->\n      <g transform=\"translate(226.11125 241.338906)scale(0.1 -0.1)\">\n       <defs>\n        <path d=\"M 2113 2584 \nQ 1688 2584 1439 2293 \nQ 1191 2003 1191 1497 \nQ 1191 994 1439 701 \nQ 1688 409 2113 409 \nQ 2538 409 2786 701 \nQ 3034 994 3034 1497 \nQ 3034 2003 2786 2293 \nQ 2538 2584 2113 2584 \nz\nM 3366 4563 \nL 3366 3988 \nQ 3128 4100 2886 4159 \nQ 2644 4219 2406 4219 \nQ 1781 4219 1451 3797 \nQ 1122 3375 1075 2522 \nQ 1259 2794 1537 2939 \nQ 1816 3084 2150 3084 \nQ 2853 3084 3261 2657 \nQ 3669 2231 3669 1497 \nQ 3669 778 3244 343 \nQ 2819 -91 2113 -91 \nQ 1303 -91 875 529 \nQ 447 1150 447 2328 \nQ 447 3434 972 4092 \nQ 1497 4750 2381 4750 \nQ 2619 4750 2861 4703 \nQ 3103 4656 3366 4563 \nz\n\" id=\"DejaVuSans-36\" transform=\"scale(0.015625)\"/>\n       </defs>\n       <use xlink:href=\"#DejaVuSans-36\"/>\n       <use x=\"63.623047\" xlink:href=\"#DejaVuSans-30\"/>\n      </g>\n     </g>\n    </g>\n   </g>\n   <g id=\"matplotlib.axis_2\">\n    <g id=\"ytick_1\">\n     <g id=\"line2d_8\">\n      <defs>\n       <path d=\"M 0 0 \nL -3.5 0 \n\" id=\"m371b81bcdd\" style=\"stroke:#000000;stroke-width:0.8;\"/>\n      </defs>\n      <g>\n       <use style=\"stroke:#000000;stroke-width:0.8;\" x=\"26.925\" xlink:href=\"#m371b81bcdd\" y=\"10.999219\"/>\n      </g>\n     </g>\n     <g id=\"text_8\">\n      <!-- 0 -->\n      <g transform=\"translate(13.5625 14.798437)scale(0.1 -0.1)\">\n       <use xlink:href=\"#DejaVuSans-30\"/>\n      </g>\n     </g>\n    </g>\n    <g id=\"ytick_2\">\n     <g id=\"line2d_9\">\n      <g>\n       <use style=\"stroke:#000000;stroke-width:0.8;\" x=\"26.925\" xlink:href=\"#m371b81bcdd\" y=\"44.974219\"/>\n      </g>\n     </g>\n     <g id=\"text_9\">\n      <!-- 10 -->\n      <g transform=\"translate(7.2 48.773437)scale(0.1 -0.1)\">\n       <use xlink:href=\"#DejaVuSans-31\"/>\n       <use x=\"63.623047\" xlink:href=\"#DejaVuSans-30\"/>\n      </g>\n     </g>\n    </g>\n    <g id=\"ytick_3\">\n     <g id=\"line2d_10\">\n      <g>\n       <use style=\"stroke:#000000;stroke-width:0.8;\" x=\"26.925\" xlink:href=\"#m371b81bcdd\" y=\"78.949219\"/>\n      </g>\n     </g>\n     <g id=\"text_10\">\n      <!-- 20 -->\n      <g transform=\"translate(7.2 82.748437)scale(0.1 -0.1)\">\n       <use xlink:href=\"#DejaVuSans-32\"/>\n       <use x=\"63.623047\" xlink:href=\"#DejaVuSans-30\"/>\n      </g>\n     </g>\n    </g>\n    <g id=\"ytick_4\">\n     <g id=\"line2d_11\">\n      <g>\n       <use style=\"stroke:#000000;stroke-width:0.8;\" x=\"26.925\" xlink:href=\"#m371b81bcdd\" y=\"112.924219\"/>\n      </g>\n     </g>\n     <g id=\"text_11\">\n      <!-- 30 -->\n      <g transform=\"translate(7.2 116.723437)scale(0.1 -0.1)\">\n       <use xlink:href=\"#DejaVuSans-33\"/>\n       <use x=\"63.623047\" xlink:href=\"#DejaVuSans-30\"/>\n      </g>\n     </g>\n    </g>\n    <g id=\"ytick_5\">\n     <g id=\"line2d_12\">\n      <g>\n       <use style=\"stroke:#000000;stroke-width:0.8;\" x=\"26.925\" xlink:href=\"#m371b81bcdd\" y=\"146.899219\"/>\n      </g>\n     </g>\n     <g id=\"text_12\">\n      <!-- 40 -->\n      <g transform=\"translate(7.2 150.698437)scale(0.1 -0.1)\">\n       <use xlink:href=\"#DejaVuSans-34\"/>\n       <use x=\"63.623047\" xlink:href=\"#DejaVuSans-30\"/>\n      </g>\n     </g>\n    </g>\n    <g id=\"ytick_6\">\n     <g id=\"line2d_13\">\n      <g>\n       <use style=\"stroke:#000000;stroke-width:0.8;\" x=\"26.925\" xlink:href=\"#m371b81bcdd\" y=\"180.874219\"/>\n      </g>\n     </g>\n     <g id=\"text_13\">\n      <!-- 50 -->\n      <g transform=\"translate(7.2 184.673437)scale(0.1 -0.1)\">\n       <use xlink:href=\"#DejaVuSans-35\"/>\n       <use x=\"63.623047\" xlink:href=\"#DejaVuSans-30\"/>\n      </g>\n     </g>\n    </g>\n    <g id=\"ytick_7\">\n     <g id=\"line2d_14\">\n      <g>\n       <use style=\"stroke:#000000;stroke-width:0.8;\" x=\"26.925\" xlink:href=\"#m371b81bcdd\" y=\"214.849219\"/>\n      </g>\n     </g>\n     <g id=\"text_14\">\n      <!-- 60 -->\n      <g transform=\"translate(7.2 218.648437)scale(0.1 -0.1)\">\n       <use xlink:href=\"#DejaVuSans-36\"/>\n       <use x=\"63.623047\" xlink:href=\"#DejaVuSans-30\"/>\n      </g>\n     </g>\n    </g>\n   </g>\n   <g id=\"patch_3\">\n    <path d=\"M 26.925 226.740469 \nL 26.925 9.300469 \n\" style=\"fill:none;stroke:#000000;stroke-linecap:square;stroke-linejoin:miter;stroke-width:0.8;\"/>\n   </g>\n   <g id=\"patch_4\">\n    <path d=\"M 244.365 226.740469 \nL 244.365 9.300469 \n\" style=\"fill:none;stroke:#000000;stroke-linecap:square;stroke-linejoin:miter;stroke-width:0.8;\"/>\n   </g>\n   <g id=\"patch_5\">\n    <path d=\"M 26.925 226.740469 \nL 244.365 226.740469 \n\" style=\"fill:none;stroke:#000000;stroke-linecap:square;stroke-linejoin:miter;stroke-width:0.8;\"/>\n   </g>\n   <g id=\"patch_6\">\n    <path d=\"M 26.925 9.300469 \nL 244.365 9.300469 \n\" style=\"fill:none;stroke:#000000;stroke-linecap:square;stroke-linejoin:miter;stroke-width:0.8;\"/>\n   </g>\n  </g>\n </g>\n <defs>\n  <clipPath id=\"pb252587773\">\n   <rect height=\"217.44\" width=\"217.44\" x=\"26.925\" y=\"9.300469\"/>\n  </clipPath>\n </defs>\n</svg>\n",
      "image/png": "[encoded data removed]"
     },
     "metadata": {
      "needs_background": "light"
     }
    }
   ],
   "source": [
    "plt.imshow(np.reshape(y_train[2], (64,64)))"
   ]
  },
  {
   "cell_type": "markdown",
   "metadata": {
    "id": "falErB7tyX4g"
   },
   "source": [
    "# DEFINE AND RUN MODEL"
   ]
  },
  {
   "cell_type": "code",
   "execution_count": 29,
   "metadata": {
    "executionInfo": {
     "elapsed": 567,
     "status": "ok",
     "timestamp": 1617001713021,
     "user": {
      "displayName": "Ana Cristina Fernandes",
      "photoUrl": "https://lh3.googleusercontent.com/a-/AOh14GhxWgImyYG469x-VuDUv7XL0ETZZC1AXPpDJPU2Bg=s64",
      "userId": "09422173661863675273"
     },
     "user_tz": -120
    },
    "id": "Au0Urs6ygB77"
   },
   "outputs": [
    {
     "output_type": "stream",
     "name": "stdout",
     "text": [
      "[0. 0. 0. 0. 0. 0. 0. 0. 0. 0. 0. 0. 0. 0. 0. 0. 0. 0. 0. 0. 0. 0. 0. 0.\n 0. 0. 0. 0. 0. 0. 0. 0. 0. 0. 0. 0. 0. 0. 0. 0. 0. 0. 0. 0. 0. 0. 0. 0.\n 0. 0. 0. 0. 0. 0. 0. 0. 0. 0. 0. 0. 0. 0. 0. 0.]\n[0. 0. 0. 0. 0. 0. 0. 0. 0. 0. 0. 0. 0. 0. 0. 0. 0. 0. 0. 0. 0. 0. 0. 0.\n 0. 0. 0. 0. 0. 0. 0. 0. 0. 0. 0. 0. 0. 0. 0. 0. 0. 0. 0. 0. 0. 0. 0. 0.\n 0. 0. 0. 0. 0. 0. 0. 0. 0. 0. 0. 0. 0. 0. 0. 0.]\n[0. 0. 0. 0. 0. 0. 0. 0. 0. 0. 0. 0. 0. 0. 0. 0. 0. 0. 0. 0. 0. 0. 0. 0.\n 0. 0. 0. 0. 0. 0. 0. 0. 0. 0. 0. 0. 0. 0. 0. 0. 0. 0. 0. 0. 0. 0. 0. 0.\n 0. 0. 0. 0. 0. 0. 0. 0. 0. 0. 0. 0. 0. 0. 0. 0.]\n[0. 0. 0. 0. 0. 0. 0. 0. 0. 0. 0. 0. 0. 0. 0. 0. 0. 0. 0. 0. 0. 0. 0. 0.\n 0. 0. 0. 0. 0. 0. 0. 0. 0. 0. 0. 0. 0. 0. 0. 0. 0. 0. 0. 0. 0. 0. 0. 0.\n 0. 0. 0. 0. 0. 0. 0. 0. 0. 0. 0. 0. 0. 0. 0. 0.]\n[0. 0. 0. 0. 0. 0. 0. 0. 0. 0. 0. 0. 0. 0. 0. 0. 0. 0. 0. 0. 0. 0. 0. 0.\n 0. 0. 0. 0. 0. 0. 0. 0. 0. 0. 0. 0. 0. 0. 0. 0. 0. 0. 0. 0. 0. 0. 0. 0.\n 0. 0. 0. 0. 0. 0. 0. 0. 0. 0. 0. 0. 0. 0. 0. 0.]\n[0. 0. 0. 0. 0. 0. 0. 0. 0. 0. 0. 0. 0. 0. 0. 0. 0. 0. 0. 0. 0. 0. 0. 0.\n 0. 0. 0. 0. 0. 0. 0. 0. 0. 0. 0. 0. 0. 0. 0. 0. 0. 0. 0. 0. 0. 0. 0. 0.\n 0. 0. 0. 0. 0. 0. 0. 0. 0. 0. 0. 0. 0. 0. 0. 0.]\n[0. 0. 0. 0. 0. 0. 0. 0. 0. 0. 0. 0. 0. 0. 0. 0. 0. 0. 0. 0. 0. 0. 0. 0.\n 0. 0. 0. 0. 0. 0. 0. 0. 0. 0. 0. 0. 0. 0. 0. 0. 0. 0. 0. 0. 0. 0. 0. 0.\n 0. 0. 0. 0. 0. 0. 0. 0. 0. 0. 0. 0. 0. 0. 0. 0.]\n[0. 0. 0. 0. 0. 0. 0. 0. 0. 0. 0. 0. 0. 0. 0. 0. 0. 0. 0. 0. 0. 0. 0. 0.\n 0. 0. 0. 0. 0. 0. 0. 0. 0. 0. 0. 0. 0. 0. 0. 0. 0. 0. 0. 0. 0. 0. 0. 0.\n 0. 0. 0. 0. 0. 0. 0. 0. 0. 0. 0. 0. 0. 0. 0. 0.]\n[0. 0. 0. 0. 0. 0. 0. 0. 0. 0. 0. 0. 0. 0. 0. 0. 0. 0. 0. 0. 0. 0. 0. 0.\n 0. 0. 0. 0. 0. 0. 0. 0. 0. 0. 0. 0. 0. 0. 0. 0. 0. 0. 0. 0. 0. 0. 0. 0.\n 0. 0. 0. 0. 0. 0. 0. 0. 0. 0. 0. 0. 0. 0. 0. 0.]\n[0. 0. 0. 0. 0. 0. 0. 0. 0. 0. 0. 0. 0. 0. 0. 0. 0. 0. 0. 0. 0. 0. 0. 0.\n 0. 0. 0. 0. 0. 0. 0. 0. 0. 0. 0. 0. 0. 0. 0. 0. 0. 0. 0. 0. 0. 0. 0. 0.\n 0. 0. 0. 0. 0. 0. 0. 0. 0. 0. 0. 0. 0. 0. 0. 0.]\n[0. 0. 0. 0. 0. 0. 0. 0. 0. 0. 0. 0. 0. 0. 0. 0. 0. 0. 0. 0. 0. 0. 0. 0.\n 0. 0. 0. 0. 0. 0. 0. 0. 0. 0. 0. 0. 0. 0. 0. 0. 0. 0. 0. 0. 0. 0. 0. 0.\n 0. 0. 0. 0. 0. 0. 0. 0. 0. 0. 0. 0. 0. 0. 0. 0.]\n[0. 0. 0. 0. 0. 0. 0. 0. 0. 0. 0. 0. 0. 0. 0. 0. 0. 0. 0. 0. 0. 0. 0. 0.\n 0. 0. 0. 0. 0. 0. 0. 0. 0. 0. 0. 0. 0. 0. 0. 0. 0. 0. 0. 0. 0. 0. 0. 0.\n 0. 0. 0. 0. 0. 0. 0. 0. 0. 0. 0. 0. 0. 0. 0. 0.]\n[0. 0. 0. 0. 0. 0. 0. 0. 0. 0. 0. 0. 0. 0. 0. 0. 0. 0. 0. 0. 0. 0. 0. 0.\n 0. 0. 0. 0. 0. 0. 0. 0. 0. 0. 0. 0. 0. 0. 0. 0. 0. 0. 0. 0. 0. 0. 0. 0.\n 0. 0. 0. 0. 0. 0. 0. 0. 0. 0. 0. 0. 0. 0. 0. 0.]\n[0. 0. 0. 0. 0. 0. 0. 0. 0. 0. 0. 0. 0. 0. 0. 0. 0. 0. 0. 0. 0. 0. 0. 0.\n 0. 0. 0. 0. 0. 0. 0. 0. 0. 0. 0. 0. 0. 0. 0. 0. 0. 0. 0. 0. 0. 0. 0. 0.\n 0. 0. 0. 0. 0. 0. 0. 0. 0. 0. 0. 0. 0. 0. 0. 0.]\n[0. 0. 0. 0. 0. 0. 0. 0. 0. 0. 0. 0. 0. 0. 0. 0. 0. 0. 0. 0. 0. 0. 0. 0.\n 0. 0. 0. 0. 0. 0. 0. 0. 0. 0. 0. 0. 0. 0. 0. 0. 0. 0. 0. 0. 0. 0. 0. 0.\n 0. 0. 0. 0. 0. 0. 0. 0. 0. 0. 0. 0. 0. 0. 0. 0.]\n[0. 0. 0. 0. 0. 0. 0. 0. 0. 0. 0. 0. 0. 0. 0. 0. 0. 0. 0. 0. 0. 0. 0. 0.\n 0. 0. 0. 0. 0. 0. 0. 0. 0. 0. 0. 0. 0. 0. 0. 0. 0. 0. 0. 0. 0. 0. 0. 0.\n 0. 0. 0. 0. 0. 0. 0. 0. 0. 0. 0. 0. 0. 0. 0. 0.]\n[0. 0. 0. 0. 0. 0. 0. 0. 0. 0. 0. 0. 0. 0. 0. 0. 0. 0. 0. 0. 0. 0. 0. 0.\n 0. 0. 0. 0. 0. 0. 0. 0. 0. 0. 0. 0. 0. 0. 0. 0. 0. 0. 0. 0. 0. 0. 0. 0.\n 0. 0. 0. 0. 0. 0. 0. 0. 0. 0. 0. 0. 0. 0. 0. 0.]\n[0. 0. 0. 0. 0. 0. 0. 0. 0. 0. 0. 0. 0. 0. 0. 0. 0. 0. 0. 0. 0. 0. 0. 0.\n 0. 0. 0. 0. 0. 0. 0. 0. 0. 0. 0. 0. 0. 0. 0. 0. 0. 0. 0. 0. 0. 0. 0. 0.\n 0. 0. 0. 0. 0. 0. 0. 0. 0. 0. 0. 0. 0. 0. 0. 0.]\n[0. 0. 0. 0. 0. 0. 0. 0. 0. 0. 0. 0. 0. 0. 0. 0. 0. 0. 0. 0. 0. 0. 0. 0.\n 0. 0. 0. 0. 0. 0. 0. 0. 0. 0. 0. 0. 0. 0. 0. 0. 0. 0. 0. 0. 0. 0. 0. 0.\n 0. 0. 0. 0. 0. 0. 0. 0. 0. 0. 0. 0. 0. 0. 0. 0.]\n[0. 0. 0. 0. 0. 0. 0. 0. 0. 0. 0. 0. 0. 0. 0. 0. 0. 0. 0. 0. 0. 0. 0. 0.\n 0. 0. 0. 0. 0. 0. 0. 0. 0. 0. 0. 0. 0. 0. 0. 0. 0. 0. 0. 0. 0. 0. 0. 0.\n 0. 0. 0. 0. 0. 0. 0. 0. 0. 0. 0. 0. 0. 0. 0. 0.]\n[0. 0. 0. 0. 0. 0. 0. 0. 0. 0. 0. 0. 0. 0. 0. 0. 0. 0. 0. 0. 0. 0. 0. 0.\n 0. 0. 0. 0. 0. 0. 0. 0. 0. 0. 0. 0. 0. 0. 0. 0. 0. 0. 0. 0. 0. 0. 0. 0.\n 0. 0. 0. 0. 0. 0. 0. 0. 0. 0. 0. 0. 0. 0. 0. 0.]\n[0. 0. 0. 0. 0. 0. 0. 0. 0. 0. 0. 0. 0. 0. 0. 0. 0. 0. 0. 0. 0. 0. 0. 0.\n 0. 0. 0. 0. 0. 0. 0. 0. 0. 0. 0. 0. 0. 0. 0. 0. 0. 0. 0. 0. 0. 0. 0. 0.\n 0. 0. 0. 0. 0. 0. 0. 0. 0. 0. 0. 0. 0. 0. 0. 0.]\n[0. 0. 0. 0. 0. 0. 0. 0. 0. 0. 0. 0. 0. 0. 0. 0. 0. 0. 0. 0. 0. 0. 0. 0.\n 0. 0. 0. 0. 0. 0. 0. 0. 0. 0. 0. 0. 0. 0. 0. 0. 0. 0. 0. 0. 0. 0. 0. 0.\n 0. 0. 0. 0. 0. 0. 0. 0. 0. 0. 0. 0. 0. 0. 0. 0.]\n[0. 0. 0. 0. 0. 0. 0. 0. 0. 0. 0. 0. 0. 0. 0. 0. 0. 0. 0. 0. 0. 0. 0. 0.\n 0. 0. 0. 0. 0. 0. 0. 0. 0. 0. 0. 0. 0. 0. 0. 0. 0. 0. 0. 0. 0. 0. 0. 0.\n 0. 0. 0. 0. 0. 0. 0. 0. 0. 0. 0. 0. 0. 0. 0. 0.]\n[0. 0. 0. 0. 0. 0. 0. 0. 0. 0. 0. 0. 0. 0. 0. 0. 0. 0. 0. 0. 0. 0. 0. 0.\n 0. 0. 0. 0. 0. 0. 0. 0. 0. 0. 0. 0. 0. 0. 0. 0. 0. 0. 0. 0. 0. 0. 0. 0.\n 0. 0. 0. 0. 0. 0. 0. 0. 0. 0. 0. 0. 0. 0. 0. 0.]\n[0. 0. 0. 0. 0. 0. 0. 0. 0. 0. 0. 0. 0. 0. 0. 0. 0. 0. 0. 0. 0. 0. 0. 0.\n 0. 0. 0. 0. 0. 0. 0. 0. 0. 0. 0. 0. 0. 0. 0. 0. 0. 0. 0. 0. 0. 0. 0. 0.\n 0. 0. 0. 0. 0. 0. 0. 0. 0. 0. 0. 0. 0. 0. 0. 0.]\n[  0.   0.   0.   0.   0.   0.   0.   0.   0.   0.   0.   0.   0.   0.\n   0.   0.   0.   0.   0.   0.   0.   0.   0.   0.   0.   0.   0.   0.\n   0.   0.   0.   0.   0.   0.   0.   0.   0.   0.   0.   0.   0.   0.\n   0.   0.   0.   0.   0.   0.   0.   0.   0.   0.   0.   0.   0.   0.\n   0.  80. 200.  80.   0.   0.   0.   0.]\n[   0.    0.    0.    0.    0.    0.    0.    0.    0.    0.    0.    0.\n    0.    0.    0.    0.    0.    0.    0.    0.    0.    0.    0.    0.\n    0.    0.    0.    0.    0.    0.    0.    0.    0.    0.    0.    0.\n    0.    0.    0.    0.    0.    0.    0.    0.    0.    0.    0.    0.\n    0.    0.    0.    0.    0.    0.    0.    0.    0.  600. 1000.  520.\n    0.    0.    0.    0.]\n[   0.    0.    0.    0.    0.    0.    0.    0.    0.    0.    0.    0.\n    0.    0.    0.    0.    0.    0.    0.    0.    0.    0.    0.    0.\n    0.    0.    0.    0.    0.    0.    0.    0.    0.    0.    0.    0.\n    0.    0.    0.    0.    0.    0.    0.    0.    0.    0.    0.    0.\n    0.    0.    0.    0.    0.    0.    0.    0.  320.  960. 1000.  440.\n    0.    0.    0.    0.]\n[   0.    0.    0.    0.    0.    0.    0.    0.    0.    0.    0.    0.\n    0.    0.    0.    0.    0.    0.    0.    0.    0.    0.    0.    0.\n    0.    0.    0.    0.    0.    0.    0.    0.    0.    0.    0.    0.\n    0.    0.    0.    0.    0.    0.    0.    0.    0.    0.    0.    0.\n    0.    0.    0.    0.    0.    0.    0.   80.  800. 1000.  800.   80.\n    0.    0.    0.    0.]\n[   0.    0.    0.    0.    0.    0.    0.    0.    0.    0.    0.    0.\n    0.    0.    0.    0.    0.    0.    0.    0.    0.    0.    0.    0.\n    0.    0.    0.    0.    0.    0.    0.    0.    0.    0.    0.    0.\n    0.    0.    0.    0.    0.    0.    0.    0.    0.    0.    0.    0.\n    0.    0.    0.    0.    0.    0.    0.  550. 1000.  950.  250.    0.\n    0.    0.    0.    0.]\n[   0.    0.    0.    0.    0.    0.    0.    0.    0.    0.    0.    0.\n    0.    0.    0.    0.    0.    0.    0.    0.    0.    0.    0.    0.\n    0.    0.    0.    0.    0.    0.    0.    0.    0.    0.    0.    0.\n    0.    0.    0.    0.    0.    0.    0.    0.    0.    0.    0.    0.\n    0.    0.    0.    0.    0.    0.  200.  920. 1000.  600.    0.    0.\n    0.    0.    0.    0.]\n[   0.    0.    0.    0.    0.    0.    0.    0.    0.    0.    0.    0.\n    0.    0.    0.    0.    0.    0.    0.    0.    0.    0.    0.    0.\n    0.    0.    0.    0.    0.    0.    0.    0.    0.    0.    0.    0.\n    0.    0.    0.    0.    0.    0.    0.    0.    0.    0.    0.    0.\n    0.    0.    0.    0.    0.   40.  680. 1000.  880.  160.    0.    0.\n    0.    0.    0.    0.]\n[   0.    0.    0.    0.    0.    0.    0.    0.    0.    0.    0.    0.\n    0.    0.    0.    0.    0.    0.    0.    0.    0.    0.    0.    0.\n    0.    0.    0.    0.    0.    0.    0.    0.    0.    0.    0.    0.\n    0.    0.    0.    0.    0.    0.    0.    0.    0.    0.    0.    0.\n    0.    0.    0.    0.    0.  360. 1000. 1000.  440.    0.    0.    0.\n    0.    0.    0.    0.]\n[   0.    0.    0.    0.    0.    0.    0.    0.    0.    0.    0.    0.\n    0.    0.    0.    0.    0.    0.    0.    0.    0.    0.    0.    0.\n    0.    0.    0.    0.    0.    0.    0.    0.    0.    0.    0.    0.\n    0.    0.    0.    0.    0.    0.    0.    0.    0.    0.    0.    0.\n    0.    0.    0.    0.  120.  840. 1000.  720.   40.    0.    0.    0.\n    0.    0.    0.    0.]\n[   0.    0.    0.    0.    0.    0.    0.    0.    0.    0.    0.    0.\n    0.    0.    0.    0.    0.    0.    0.    0.    0.    0.    0.    0.\n    0.    0.    0.    0.    0.    0.    0.    0.    0.    0.    0.    0.\n    0.    0.    0.    0.    0.    0.    0.    0.    0.    0.    0.    0.\n    0.    0.    0.    0.  600. 1000.  950.  200.    0.    0.    0.    0.\n    0.    0.    0.    0.]\n[   0.    0.    0.    0.    0.    0.    0.    0.    0.    0.    0.    0.\n    0.    0.    0.    0.    0.    0.    0.    0.    0.    0.    0.    0.\n    0.    0.    0.    0.    0.    0.    0.    0.    0.    0.    0.    0.\n    0.    0.    0.    0.    0.    0.    0.    0.    0.    0.    0.    0.\n    0.    0.    0.  280.  960. 1000.  560.    0.    0.    0.    0.    0.\n    0.    0.    0.    0.]\n[   0.    0.    0.    0.    0.    0.    0.    0.    0.    0.    0.    0.\n    0.    0.    0.    0.    0.    0.    0.    0.    0.    0.    0.    0.\n    0.    0.    0.    0.    0.    0.    0.    0.    0.    0.    0.    0.\n    0.    0.    0.    0.    0.    0.    0.    0.    0.    0.    0.    0.\n    0.    0.   40.  760. 1000.  840.  120.    0.    0.    0.    0.    0.\n    0.    0.    0.    0.]\n[   0.    0.    0.    0.    0.    0.    0.    0.    0.    0.    0.    0.\n    0.    0.    0.    0.    0.    0.    0.    0.    0.    0.    0.    0.\n    0.    0.    0.    0.    0.    0.    0.    0.    0.    0.    0.    0.\n    0.    0.    0.    0.    0.    0.    0.    0.    0.    0.    0.    0.\n    0.    0.  440. 1000. 1000.  360.    0.    0.    0.    0.    0.    0.\n    0.    0.    0.    0.]\n[   0.    0.    0.    0.    0.    0.    0.    0.    0.    0.    0.    0.\n    0.    0.    0.    0.    0.    0.    0.    0.    0.    0.    0.    0.\n    0.    0.    0.    0.    0.    0.    0.    0.    0.    0.    0.    0.\n    0.    0.    0.    0.    0.    0.    0.    0.    0.    0.    0.    0.\n    0.  160.  880. 1000.  680.   40.    0.    0.    0.    0.    0.    0.\n    0.    0.    0.    0.]\n[   0.    0.    0.    0.    0.    0.    0.    0.    0.    0.    0.    0.\n    0.    0.    0.    0.    0.    0.    0.    0.    0.    0.    0.    0.\n    0.    0.    0.    0.    0.    0.    0.    0.    0.    0.    0.    0.\n    0.    0.    0.    0.    0.    0.    0.    0.    0.    0.    0.    0.\n    0.  700. 1000.  900.  100.    0.    0.    0.    0.    0.    0.    0.\n    0.    0.    0.    0.]\n[   0.    0.    0.    0.    0.    0.    0.    0.    0.    0.    0.    0.\n    0.    0.    0.    0.    0.    0.    0.    0.    0.    0.    0.    0.\n    0.    0.    0.    0.    0.    0.    0.    0.    0.    0.    0.    0.\n    0.    0.    0.    0.    0.    0.    0.    0.    0.    0.    0.    0.\n  320.  960. 1000.  480.    0.    0.    0.    0.    0.    0.    0.    0.\n    0.    0.    0.    0.]\n[   0.    0.    0.    0.    0.    0.    0.    0.    0.    0.    0.    0.\n    0.    0.    0.    0.    0.    0.    0.    0.    0.    0.    0.    0.\n    0.    0.    0.    0.    0.    0.    0.    0.    0.    0.    0.    0.\n    0.    0.    0.    0.    0.    0.    0.    0.    0.    0.    0.   80.\n  800. 1000.  800.   80.    0.    0.    0.    0.    0.    0.    0.    0.\n    0.    0.    0.    0.]\n[   0.    0.    0.    0.    0.    0.    0.    0.    0.    0.    0.    0.\n    0.    0.    0.    0.    0.    0.    0.    0.    0.    0.    0.    0.\n    0.    0.    0.    0.    0.    0.    0.    0.    0.    0.    0.    0.\n    0.    0.    0.    0.    0.    0.    0.    0.    0.    0.    0.  520.\n 1000.  960.  280.    0.    0.    0.    0.    0.    0.    0.    0.    0.\n    0.    0.    0.    0.]\n[   0.    0.    0.    0.    0.    0.    0.    0.    0.    0.    0.    0.\n    0.    0.    0.    0.    0.    0.    0.    0.    0.    0.    0.    0.\n    0.    0.    0.    0.    0.    0.    0.    0.    0.    0.    0.    0.\n    0.    0.    0.    0.    0.    0.    0.    0.    0.    0.  200.  920.\n 1000.  600.    0.    0.    0.    0.    0.    0.    0.    0.    0.    0.\n    0.    0.    0.    0.]\n[   0.    0.    0.    0.    0.    0.    0.    0.    0.    0.    0.    0.\n    0.    0.    0.    0.    0.    0.    0.    0.    0.    0.    0.    0.\n    0.    0.    0.    0.    0.    0.    0.    0.    0.    0.    0.    0.\n    0.    0.    0.    0.    0.    0.    0.    0.    0.   50.  750. 1000.\n  850.  100.    0.    0.    0.    0.    0.    0.    0.    0.    0.    0.\n    0.    0.    0.    0.]\n[   0.    0.    0.    0.    0.    0.    0.    0.    0.    0.    0.    0.\n    0.    0.    0.    0.    0.    0.    0.    0.    0.    0.    0.    0.\n    0.    0.    0.    0.    0.    0.    0.    0.    0.    0.    0.    0.\n    0.    0.    0.    0.    0.    0.    0.    0.    0.  400. 1000. 1000.\n  400.    0.    0.    0.    0.    0.    0.    0.    0.    0.    0.    0.\n    0.    0.    0.    0.]\n[   0.    0.    0.    0.    0.    0.    0.    0.    0.    0.    0.    0.\n    0.    0.    0.    0.    0.    0.    0.    0.    0.    0.    0.    0.\n    0.    0.    0.    0.    0.    0.    0.    0.    0.    0.    0.    0.\n    0.    0.    0.    0.    0.    0.    0.    0.  120.  840. 1000.  720.\n   40.    0.    0.    0.    0.    0.    0.    0.    0.    0.    0.    0.\n    0.    0.    0.    0.]\n[   0.    0.    0.    0.    0.    0.    0.    0.    0.    0.    0.    0.\n    0.    0.    0.    0.    0.    0.    0.    0.    0.    0.    0.    0.\n    0.    0.    0.    0.    0.    0.    0.    0.    0.    0.    0.    0.\n    0.    0.    0.    0.    0.    0.    0.    0.  560. 1000.  960.  240.\n    0.    0.    0.    0.    0.    0.    0.    0.    0.    0.    0.    0.\n    0.    0.    0.    0.]\n[   0.    0.    0.    0.    0.    0.    0.    0.    0.    0.    0.    0.\n    0.    0.    0.    0.    0.    0.    0.    0.    0.    0.    0.    0.\n    0.    0.    0.    0.    0.    0.    0.    0.    0.    0.    0.    0.\n    0.    0.    0.    0.    0.    0.    0.  280.  960. 1000.  520.    0.\n    0.    0.    0.    0.    0.    0.    0.    0.    0.    0.    0.    0.\n    0.    0.    0.    0.]\n[   0.    0.    0.    0.    0.    0.    0.    0.    0.    0.    0.    0.\n    0.    0.    0.    0.    0.    0.    0.    0.    0.    0.    0.    0.\n    0.    0.    0.    0.    0.    0.    0.    0.    0.    0.    0.    0.\n    0.    0.    0.    0.    0.    0.   50.  800. 1000.  800.   50.    0.\n    0.    0.    0.    0.    0.    0.    0.    0.    0.    0.    0.    0.\n    0.    0.    0.    0.]\n[   0.    0.    0.    0.    0.    0.    0.    0.    0.    0.    0.    0.\n    0.    0.    0.    0.    0.    0.    0.    0.    0.    0.    0.    0.\n    0.    0.    0.    0.    0.    0.    0.    0.    0.    0.    0.    0.\n    0.    0.    0.    0.    0.    0.  440. 1000. 1000.  360.    0.    0.\n    0.    0.    0.    0.    0.    0.    0.    0.    0.    0.    0.    0.\n    0.    0.    0.    0.]\n[   0.    0.    0.    0.    0.    0.    0.    0.    0.    0.    0.    0.\n    0.    0.    0.    0.    0.    0.    0.    0.    0.    0.    0.    0.\n    0.    0.    0.    0.    0.    0.    0.    0.    0.    0.    0.    0.\n    0.    0.    0.    0.    0.  160.  880. 1000.  680.   40.    0.    0.\n    0.    0.    0.    0.    0.    0.    0.    0.    0.    0.    0.    0.\n    0.    0.    0.    0.]\n[   0.    0.    0.    0.    0.    0.    0.    0.    0.    0.    0.    0.\n    0.    0.    0.    0.    0.    0.    0.    0.    0.    0.    0.    0.\n    0.    0.    0.    0.    0.    0.    0.    0.    0.    0.    0.    0.\n    0.    0.    0.    0.    0.  640. 1000.  920.  160.    0.    0.    0.\n    0.    0.    0.    0.    0.    0.    0.    0.    0.    0.    0.    0.\n    0.    0.    0.    0.]\n[   0.    0.    0.    0.    0.    0.    0.    0.    0.    0.    0.    0.\n    0.    0.    0.    0.    0.    0.    0.    0.    0.    0.    0.    0.\n    0.    0.    0.    0.    0.    0.    0.    0.    0.    0.    0.    0.\n    0.    0.    0.    0.  320.  960. 1000.  480.    0.    0.    0.    0.\n    0.    0.    0.    0.    0.    0.    0.    0.    0.    0.    0.    0.\n    0.    0.    0.    0.]\n[   0.    0.    0.    0.    0.    0.    0.    0.    0.    0.    0.    0.\n    0.    0.    0.    0.    0.    0.    0.    0.    0.    0.    0.    0.\n    0.    0.    0.    0.    0.    0.    0.    0.    0.    0.    0.    0.\n    0.    0.    0.  100.  850. 1000.  750.   50.    0.    0.    0.    0.\n    0.    0.    0.    0.    0.    0.    0.    0.    0.    0.    0.    0.\n    0.    0.    0.    0.]\n[   0.    0.    0.    0.    0.    0.    0.    0.    0.    0.    0.    0.\n    0.    0.    0.    0.    0.    0.    0.    0.    0.    0.    0.    0.\n    0.    0.    0.    0.    0.    0.    0.    0.    0.    0.    0.    0.\n    0.    0.    0.  520. 1000.  960.  280.    0.    0.    0.    0.    0.\n    0.    0.    0.    0.    0.    0.    0.    0.    0.    0.    0.    0.\n    0.    0.    0.    0.]\n[   0.    0.    0.    0.    0.    0.    0.    0.    0.    0.    0.    0.\n    0.    0.    0.    0.    0.    0.    0.    0.    0.    0.    0.    0.\n    0.    0.    0.    0.    0.    0.    0.    0.    0.    0.    0.    0.\n    0.    0.  200.  920. 1000.  600.    0.    0.    0.    0.    0.    0.\n    0.    0.    0.    0.    0.    0.    0.    0.    0.    0.    0.    0.\n    0.    0.    0.    0.]\n[   0.    0.    0.    0.    0.    0.    0.    0.    0.    0.    0.    0.\n    0.    0.    0.    0.    0.    0.    0.    0.    0.    0.    0.    0.\n    0.    0.    0.    0.    0.    0.    0.    0.    0.    0.    0.    0.\n    0.   40.  680. 1000.  880.  160.    0.    0.    0.    0.    0.    0.\n    0.    0.    0.    0.    0.    0.    0.    0.    0.    0.    0.    0.\n    0.    0.    0.    0.]\n[   0.    0.    0.    0.    0.    0.    0.    0.    0.    0.    0.    0.\n    0.    0.    0.    0.    0.    0.    0.    0.    0.    0.    0.    0.\n    0.    0.    0.    0.    0.    0.    0.    0.    0.    0.    0.    0.\n    0.  400. 1000. 1000.  400.    0.    0.    0.    0.    0.    0.    0.\n    0.    0.    0.    0.    0.    0.    0.    0.    0.    0.    0.    0.\n    0.    0.    0.    0.]\n[   0.    0.    0.    0.    0.    0.    0.    0.    0.    0.    0.    0.\n    0.    0.    0.    0.    0.    0.    0.    0.    0.    0.    0.    0.\n    0.    0.    0.    0.    0.    0.    0.    0.    0.    0.    0.    0.\n  150.  900. 1000.  650.    0.    0.    0.    0.    0.    0.    0.    0.\n    0.    0.    0.    0.    0.    0.    0.    0.    0.    0.    0.    0.\n    0.    0.    0.    0.]\n[   0.    0.    0.    0.    0.    0.    0.    0.    0.    0.    0.    0.\n    0.    0.    0.    0.    0.    0.    0.    0.    0.    0.    0.    0.\n    0.    0.    0.    0.    0.    0.    0.    0.    0.    0.    0.    0.\n  560. 1000.  960.  240.    0.    0.    0.    0.    0.    0.    0.    0.\n    0.    0.    0.    0.    0.    0.    0.    0.    0.    0.    0.    0.\n    0.    0.    0.    0.]\n[   0.    0.    0.    0.    0.    0.    0.    0.    0.    0.    0.    0.\n    0.    0.    0.    0.    0.    0.    0.    0.    0.    0.    0.    0.\n    0.    0.    0.    0.    0.    0.    0.    0.    0.    0.    0.  280.\n  960. 1000.  520.    0.    0.    0.    0.    0.    0.    0.    0.    0.\n    0.    0.    0.    0.    0.    0.    0.    0.    0.    0.    0.    0.\n    0.    0.    0.    0.]\n[   0.    0.    0.    0.    0.    0.    0.    0.    0.    0.    0.    0.\n    0.    0.    0.    0.    0.    0.    0.    0.    0.    0.    0.    0.\n    0.    0.    0.    0.    0.    0.    0.    0.    0.    0.   40.  760.\n 1000.  840.   80.    0.    0.    0.    0.    0.    0.    0.    0.    0.\n    0.    0.    0.    0.    0.    0.    0.    0.    0.    0.    0.    0.\n    0.    0.    0.    0.]\n"
     ]
    }
   ],
   "source": []
  },
  {
   "cell_type": "code",
   "execution_count": 30,
   "metadata": {
    "colab": {
     "base_uri": "https://localhost:8080/"
    },
    "executionInfo": {
     "elapsed": 808,
     "status": "ok",
     "timestamp": 1617001716483,
     "user": {
      "displayName": "Ana Cristina Fernandes",
      "photoUrl": "https://lh3.googleusercontent.com/a-/AOh14GhxWgImyYG469x-VuDUv7XL0ETZZC1AXPpDJPU2Bg=s64",
      "userId": "09422173661863675273"
     },
     "user_tz": -120
    },
    "id": "e05yTz3kylFj",
    "outputId": "58c3ae35-5b69-4e04-cc40-7a8de6181b53"
   },
   "outputs": [
    {
     "output_type": "error",
     "ename": "NameError",
     "evalue": "name 'shape' is not defined",
     "traceback": [
      "\u001b[0;31m---------------------------------------------------------------------------\u001b[0m",
      "\u001b[0;31mNameError\u001b[0m                                 Traceback (most recent call last)",
      "\u001b[0;32m<ipython-input-30-0b32f584d376>\u001b[0m in \u001b[0;36m<module>\u001b[0;34m\u001b[0m\n\u001b[1;32m     71\u001b[0m   \u001b[0;32mreturn\u001b[0m \u001b[0mmodel\u001b[0m\u001b[0;34m\u001b[0m\u001b[0;34m\u001b[0m\u001b[0m\n\u001b[1;32m     72\u001b[0m \u001b[0;34m\u001b[0m\u001b[0m\n\u001b[0;32m---> 73\u001b[0;31m \u001b[0minput_img\u001b[0m \u001b[0;34m=\u001b[0m \u001b[0mInput\u001b[0m\u001b[0;34m(\u001b[0m\u001b[0mshape\u001b[0m\u001b[0;34m,\u001b[0m \u001b[0mname\u001b[0m\u001b[0;34m=\u001b[0m\u001b[0;34m'img'\u001b[0m\u001b[0;34m)\u001b[0m\u001b[0;34m\u001b[0m\u001b[0;34m\u001b[0m\u001b[0m\n\u001b[0m\u001b[1;32m     74\u001b[0m \u001b[0;34m\u001b[0m\u001b[0m\n\u001b[1;32m     75\u001b[0m \u001b[0mshape\u001b[0m \u001b[0;34m=\u001b[0m \u001b[0;34m(\u001b[0m\u001b[0mX_train\u001b[0m\u001b[0;34m.\u001b[0m\u001b[0mshape\u001b[0m\u001b[0;34m[\u001b[0m\u001b[0;36m1\u001b[0m\u001b[0;34m:\u001b[0m\u001b[0;34m]\u001b[0m\u001b[0;34m)\u001b[0m\u001b[0;34m\u001b[0m\u001b[0;34m\u001b[0m\u001b[0m\n",
      "\u001b[0;31mNameError\u001b[0m: name 'shape' is not defined"
     ]
    }
   ],
   "source": [
    "\n",
    "from keras.models import Model, load_model\n",
    "from keras.layers import Input, BatchNormalization, Activation, Dense, Dropout\n",
    "from keras.layers.core import Lambda, RepeatVector, Reshape\n",
    "from keras.layers.convolutional import Conv2D, Conv2DTranspose\n",
    "from keras.layers.pooling import MaxPooling2D, GlobalMaxPool2D\n",
    "from keras.layers.merge import concatenate, add\n",
    "from keras.callbacks import EarlyStopping, ModelCheckpoint, ReduceLROnPlateau\n",
    "from keras.optimizers import Adam\n",
    "\n",
    "def conv2d_block(input_tensor, n_filters, kernel_size = 3, batchnorm = True):\n",
    "    \"\"\"Function to add 2 convolutional layers with the parameters passed to it\"\"\"\n",
    "    # first layer\n",
    "    x = Conv2D(filters = n_filters, kernel_size = (kernel_size, kernel_size),\\\n",
    "              kernel_initializer = 'he_normal', padding = 'same')(input_tensor)\n",
    "    if batchnorm:\n",
    "        x = BatchNormalization()(x)\n",
    "    x = Activation('relu')(x)\n",
    "    \n",
    "    # second layer\n",
    "    x = Conv2D(filters = n_filters, kernel_size = (kernel_size, kernel_size),\\\n",
    "              kernel_initializer = 'he_normal', padding = 'same')(input_tensor)\n",
    "    if batchnorm:\n",
    "        x = BatchNormalization()(x)\n",
    "    x = Activation('relu')(x)\n",
    "    \n",
    "    return x\n",
    "  \n",
    "def get_unet(input_img, n_filters = 16, dropout = 0.1, batchnorm = True):\n",
    "  # Contracting Path\n",
    "  c1 = conv2d_block(input_img, n_filters * 1, kernel_size = 3, batchnorm = batchnorm)\n",
    "  p1 = MaxPooling2D((2, 2))(c1)\n",
    "  p1 = Dropout(dropout)(p1)\n",
    "  \n",
    "  c2 = conv2d_block(p1, n_filters * 2, kernel_size = 3, batchnorm = batchnorm)\n",
    "  p2 = MaxPooling2D((2, 2))(c2)\n",
    "  p2 = Dropout(dropout)(p2)\n",
    "  \n",
    "  c3 = conv2d_block(p2, n_filters * 4, kernel_size = 3, batchnorm = batchnorm)\n",
    "  p3 = MaxPooling2D((2, 2))(c3)\n",
    "  p3 = Dropout(dropout)(p3)\n",
    "  \n",
    "  c4 = conv2d_block(p3, n_filters * 8, kernel_size = 3, batchnorm = batchnorm)\n",
    "  p4 = MaxPooling2D((2, 2))(c4)\n",
    "  p4 = Dropout(dropout)(p4)\n",
    "  \n",
    "  c5 = conv2d_block(p4, n_filters = n_filters * 16, kernel_size = 3, batchnorm = batchnorm)\n",
    "  \n",
    "  # Expansive Path\n",
    "  u6 = Conv2DTranspose(n_filters * 8, (3, 3), strides = (2, 2), padding = 'same')(c5)\n",
    "  u6 = concatenate([u6, c4])\n",
    "  u6 = Dropout(dropout)(u6)\n",
    "  c6 = conv2d_block(u6, n_filters * 8, kernel_size = 3, batchnorm = batchnorm)\n",
    "  \n",
    "  u7 = Conv2DTranspose(n_filters * 4, (3, 3), strides = (2, 2), padding = 'same')(c6)\n",
    "  u7 = concatenate([u7, c3])\n",
    "  u7 = Dropout(dropout)(u7)\n",
    "  c7 = conv2d_block(u7, n_filters * 4, kernel_size = 3, batchnorm = batchnorm)\n",
    "  \n",
    "  u8 = Conv2DTranspose(n_filters * 2, (3, 3), strides = (2, 2), padding = 'same')(c7)\n",
    "  u8 = concatenate([u8, c2])\n",
    "  u8 = Dropout(dropout)(u8)\n",
    "  c8 = conv2d_block(u8, n_filters * 2, kernel_size = 3, batchnorm = batchnorm)\n",
    "  \n",
    "  u9 = Conv2DTranspose(n_filters * 1, (3, 3), strides = (2, 2), padding = 'same')(c8)\n",
    "  u9 = concatenate([u9, c1])\n",
    "  u9 = Dropout(dropout)(u9)\n",
    "  c9 = conv2d_block(u9, n_filters * 1, kernel_size = 3, batchnorm = batchnorm)\n",
    "  \n",
    "  outputs = Conv2D(1, (1, 1), activation='relu')(c9)\n",
    "  model = Model(inputs=[input_img], outputs=[outputs])\n",
    "  return model\n",
    "\n",
    "shape = (X_train.shape[1:])\n",
    "shape\n",
    "input_img = Input(shape, name='img')\n",
    "\n",
    "\n",
    "model = get_unet(input_img, n_filters=16, dropout=0.05, batchnorm=True)\n",
    "model.compile(optimizer=Adam(), loss= \"mse\", metrics=[\"mse\", \"mae\"])\n",
    "\n",
    "model.summary()\n"
   ]
  },
  {
   "cell_type": "code",
   "execution_count": 51,
   "metadata": {
    "colab": {
     "base_uri": "https://localhost:8080/",
     "height": 408
    },
    "executionInfo": {
     "elapsed": 21081,
     "status": "error",
     "timestamp": 1617001744908,
     "user": {
      "displayName": "Ana Cristina Fernandes",
      "photoUrl": "https://lh3.googleusercontent.com/a-/AOh14GhxWgImyYG469x-VuDUv7XL0ETZZC1AXPpDJPU2Bg=s64",
      "userId": "09422173661863675273"
     },
     "user_tz": -120
    },
    "id": "yGjgQM4JgPym",
    "outputId": "3395f2fa-b9da-4abe-b7e9-2f22c609a792"
   },
   "outputs": [],
   "source": [
    "callbacks = [\n",
    "    EarlyStopping(patience=10, verbose=1),\n",
    "    ReduceLROnPlateau(factor=0.1, patience=5, min_lr=0.00001, verbose=1),\n",
    "    ModelCheckpoint('model-tgs-walls.h5', verbose=1, save_best_only=True, save_weights_only=True)\n",
    "]"
   ]
  },
  {
   "cell_type": "code",
   "execution_count": 52,
   "metadata": {},
   "outputs": [
    {
     "output_type": "stream",
     "name": "stdout",
     "text": [
      "Epoch 1/10\n",
      "  54/1564 [>.............................] - ETA: 7:25 - loss: 21389630767.4074 - mse: 21389630767.4074 - mae: 25624.8270"
     ]
    }
   ],
   "source": [
    "results = model.fit(X_train, y_train, batch_size=32, epochs=10, callbacks=callbacks,\n",
    "                    validation_split=0.2)"
   ]
  },
  {
   "cell_type": "code",
   "execution_count": null,
   "metadata": {
    "colab": {
     "base_uri": "https://localhost:8080/",
     "height": 513
    },
    "executionInfo": {
     "elapsed": 962,
     "status": "ok",
     "timestamp": 1616943828655,
     "user": {
      "displayName": "Ana Cristina Fernandes",
      "photoUrl": "https://lh3.googleusercontent.com/a-/AOh14GhxWgImyYG469x-VuDUv7XL0ETZZC1AXPpDJPU2Bg=s64",
      "userId": "09422173661863675273"
     },
     "user_tz": -120
    },
    "id": "buYKWLw2gSfF",
    "outputId": "a904478a-c06d-4e2f-84a1-3d8dff639c19"
   },
   "outputs": [],
   "source": [
    "plt.figure(figsize=(8, 8))\n",
    "plt.title(\"Learning curve\")\n",
    "plt.plot(results.history[\"loss\"], label=\"loss\")\n",
    "plt.plot(results.history[\"val_loss\"], label=\"val_loss\")\n",
    "plt.plot( np.argmin(results.history[\"val_loss\"]), np.min(results.history[\"val_loss\"]), marker=\"x\", color=\"r\", label=\"best model\")\n",
    "plt.xlabel(\"Epochs\")\n",
    "plt.ylabel(\"log_loss\")\n",
    "plt.legend()"
   ]
  },
  {
   "cell_type": "code",
   "execution_count": null,
   "metadata": {
    "colab": {
     "base_uri": "https://localhost:8080/"
    },
    "executionInfo": {
     "elapsed": 3688,
     "status": "ok",
     "timestamp": 1616943971387,
     "user": {
      "displayName": "Ana Cristina Fernandes",
      "photoUrl": "https://lh3.googleusercontent.com/a-/AOh14GhxWgImyYG469x-VuDUv7XL0ETZZC1AXPpDJPU2Bg=s64",
      "userId": "09422173661863675273"
     },
     "user_tz": -120
    },
    "id": "BUB2ADm0Ofb9",
    "outputId": "ca01e9b0-9c22-4a62-835a-9f2e47dad5b3"
   },
   "outputs": [],
   "source": [
    "mse_test = model.evaluate(X_test, y_test)"
   ]
  },
  {
   "cell_type": "code",
   "execution_count": null,
   "metadata": {
    "id": "MN7w1uDYqsxZ"
   },
   "outputs": [],
   "source": [
    "import uuid\n",
    "uid = uuid.uuid4().hex\n",
    "\n",
    "out_directory = 'C:/Users/AFER/Documents/Projects/StoneWalls/Data/stonewalls/Aeroe/training_data/predictions/'\n",
    "unique_filename = out_directory + uid + '.h5'\n",
    "model.save(unique_filename)"
   ]
  }
 ],
 "metadata": {
  "accelerator": "GPU",
  "colab": {
   "collapsed_sections": [
    "qX4oHrOhAGAW"
   ],
   "name": "TESTING_train_and_predict_stonewalls_ana.ipynb",
   "provenance": [
    {
     "file_id": "1Is5QGDiNiZ86uGJmp-S231xIsIVHoG5i",
     "timestamp": 1616742239537
    },
    {
     "file_id": "1dATiHJVSh9et0PE1rsEdNiCLwqWC7d-4",
     "timestamp": 1616690586736
    },
    {
     "file_id": "1xOe6NOJHKIKgNCdajIuLA4kIF7QucMax",
     "timestamp": 1616426343179
    },
    {
     "file_id": "1XdfNPUnTxglGaYNsuNGSjMaVmTMwORS7",
     "timestamp": 1616411713798
    },
    {
     "file_id": "1z0Jvkh9RqkxIQUnRdGRA95rWdzsL9FXD",
     "timestamp": 1615281999767
    }
   ],
   "toc_visible": true
  },
  "kernelspec": {
   "name": "python388jvsc74a57bd06ecfbd4e56209c73524f1cab5d1b3bd16d112b388402b20832501b3a55224745",
   "display_name": "Python 3.8.8 64-bit"
  },
  "language_info": {
   "codemirror_mode": {
    "name": "ipython",
    "version": 3
   },
   "file_extension": ".py",
   "mimetype": "text/x-python",
   "name": "python",
   "nbconvert_exporter": "python",
   "pygments_lexer": "ipython3",
   "version": "3.8.8"
  },
  "metadata": {
   "interpreter": {
    "hash": "6ecfbd4e56209c73524f1cab5d1b3bd16d112b388402b20832501b3a55224745"
   }
  }
 },
 "nbformat": 4,
 "nbformat_minor": 1
}