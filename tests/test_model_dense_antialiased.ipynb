{
 "cells": [
  {
   "cell_type": "code",
   "execution_count": 1,
   "metadata": {},
   "outputs": [],
   "source": [
    "# Local path, change this.\n",
    "yellow_follow = \"//wsl$/Ubuntu-20.04/home/afer/yellow/lib/\"\n",
    "\n",
    "import sys; sys.path.append(yellow_follow) \n",
    "import pandas as pd\n",
    "import ml_utils\n",
    "import math\n",
    "import time\n",
    "import numpy as np\n",
    "import os\n",
    "\n",
    "np.set_printoptions(suppress=True)\n",
    "os.environ['TF_FORCE_GPU_ALLOW_GROWTH'] = 'true'\n",
    "\n",
    "from sqlalchemy import create_engine\n",
    "\n",
    "from sklearn.model_selection import train_test_split\n",
    "\n",
    "# Tensorflow\n",
    "import tensorflow_addons as tfa\n",
    "from tensorflow.keras import Model, Input\n",
    "from tensorflow.keras.layers import Dense, BatchNormalization, Dropout, Dropout, Conv2D, MaxPooling2D, Flatten, Conv2DTranspose, Add\n",
    "from tensorflow.keras.optimizers import Adam\n",
    "from tensorflow.keras.callbacks import EarlyStopping, LearningRateScheduler\n",
    "from tensorflow.keras.constraints import max_norm\n",
    "from tensorflow.keras.utils import plot_model\n",
    "\n",
    "folder = \"C:/users/afer/documents/projects/stonewalls/Data/stonewalls/Aeroe/train/wall_data/\""
   ]
  },
  {
   "cell_type": "code",
   "execution_count": 2,
   "metadata": {},
   "outputs": [],
   "source": [
    "dtm = np.load(folder + \"dtm.npy\")\n",
    "walls = np.load(folder + \"walls.npy\")\n",
    "meta = pd.read_csv(folder + \"metadata.csv\")"
   ]
  },
  {
   "cell_type": "code",
   "execution_count": 3,
   "metadata": {},
   "outputs": [],
   "source": [
    "walls = (walls == 1).astype('uint8')"
   ]
  },
  {
   "cell_type": "code",
   "execution_count": 4,
   "metadata": {},
   "outputs": [],
   "source": [
    "land_mask = np.swapaxes(meta[meta[\"land\"] == 1].values, 0, 1)[0]\n",
    "wall_mask = np.swapaxes(meta[meta[\"wall\"] == 1].values, 0, 1)[0]    # Has a wall\n",
    "no_wall_mask = np.swapaxes(meta[meta[\"wall\"] == 2].values, 0, 1)[0] # Has _no_ wall"
   ]
  },
  {
   "cell_type": "code",
   "execution_count": 5,
   "metadata": {},
   "outputs": [
    {
     "data": {
      "text/plain": [
       "(715,)"
      ]
     },
     "execution_count": 5,
     "metadata": {},
     "output_type": "execute_result"
    }
   ],
   "source": [
    "no_wall_mask.shape"
   ]
  },
  {
   "cell_type": "code",
   "execution_count": 6,
   "metadata": {},
   "outputs": [
    {
     "data": {
      "text/plain": [
       "(599,)"
      ]
     },
     "execution_count": 6,
     "metadata": {},
     "output_type": "execute_result"
    }
   ],
   "source": [
    "wall_mask.shape"
   ]
  },
  {
   "cell_type": "markdown",
   "metadata": {},
   "source": [
    "Regression first"
   ]
  },
  {
   "cell_type": "code",
   "execution_count": 7,
   "metadata": {},
   "outputs": [],
   "source": [
    "train = np.concatenate([dtm[wall_mask], dtm[no_wall_mask]])"
   ]
  },
  {
   "cell_type": "code",
   "execution_count": 8,
   "metadata": {},
   "outputs": [],
   "source": [
    "truth = np.concatenate([meta.values[wall_mask], meta.values[no_wall_mask]])"
   ]
  },
  {
   "cell_type": "code",
   "execution_count": 9,
   "metadata": {},
   "outputs": [
    {
     "data": {
      "text/plain": [
       "(1314, 3)"
      ]
     },
     "execution_count": 9,
     "metadata": {},
     "output_type": "execute_result"
    }
   ],
   "source": [
    "truth.shape"
   ]
  },
  {
   "cell_type": "code",
   "execution_count": 10,
   "metadata": {},
   "outputs": [],
   "source": [
    "truth = (np.swapaxes(truth, 0, 1)[2] == 1).astype('uint8')"
   ]
  },
  {
   "cell_type": "code",
   "execution_count": 11,
   "metadata": {},
   "outputs": [
    {
     "data": {
      "text/plain": [
       "(1314,)"
      ]
     },
     "execution_count": 11,
     "metadata": {},
     "output_type": "execute_result"
    }
   ],
   "source": [
    "truth.shape"
   ]
  },
  {
   "cell_type": "code",
   "execution_count": 12,
   "metadata": {},
   "outputs": [
    {
     "data": {
      "text/plain": [
       "(5256, 64, 64)"
      ]
     },
     "execution_count": 12,
     "metadata": {},
     "output_type": "execute_result"
    }
   ],
   "source": [
    "train = ml_utils.add_rotations(train)\n",
    "train.shape"
   ]
  },
  {
   "cell_type": "code",
   "execution_count": 13,
   "metadata": {},
   "outputs": [
    {
     "data": {
      "text/plain": [
       "(5256,)"
      ]
     },
     "execution_count": 13,
     "metadata": {},
     "output_type": "execute_result"
    }
   ],
   "source": [
    "truth = np.concatenate([truth, truth, truth, truth])\n",
    "truth.shape"
   ]
  },
  {
   "cell_type": "code",
   "execution_count": 14,
   "metadata": {},
   "outputs": [],
   "source": [
    "# Shuffle the dataset\n",
    "shuffle_mask = np.random.permutation(len(truth))\n",
    "train = train[shuffle_mask]\n",
    "truth = truth[shuffle_mask]\n",
    "\n",
    "train = train[..., np.newaxis]"
   ]
  },
  {
   "cell_type": "code",
   "execution_count": 15,
   "metadata": {},
   "outputs": [],
   "source": [
    "X_train, X_test, y_train, y_test = train_test_split(train, truth, test_size=0.33, random_state=42)"
   ]
  },
  {
   "cell_type": "code",
   "execution_count": 16,
   "metadata": {},
   "outputs": [
    {
     "data": {
      "text/plain": [
       "(3521, 64, 64, 1)"
      ]
     },
     "execution_count": 16,
     "metadata": {},
     "output_type": "execute_result"
    }
   ],
   "source": [
    "X_train.shape"
   ]
  },
  {
   "cell_type": "code",
   "execution_count": 17,
   "metadata": {},
   "outputs": [],
   "source": [
    "def define_model(shape, name, activation='relu', kernel_initializer='uniform', maxnorm=4, sizes=[64, 96, 128]):\n",
    "    model_input = Input(shape=shape, name=name)\n",
    "    model = Conv2D(sizes[0],\n",
    "        kernel_size=5,\n",
    "        padding='same',\n",
    "        activation=activation,\n",
    "        kernel_initializer=kernel_initializer,\n",
    "    )(model_input)\n",
    "\n",
    "    model = MaxPooling2D(pool_size=(2, 2), padding='same', strides=(2, 2))(model)\n",
    "\n",
    "    model = Conv2D(sizes[1],\n",
    "        kernel_size=3,\n",
    "        padding='same',\n",
    "        activation=activation,\n",
    "        kernel_initializer=kernel_initializer,\n",
    "    )(model)\n",
    "\n",
    "    model = MaxPooling2D(pool_size=(2, 2), padding='same', strides=(2, 2))(model)\n",
    "\n",
    "    model = Conv2D(sizes[1],\n",
    "        kernel_size=3,\n",
    "        padding='same',\n",
    "        activation=activation,\n",
    "        kernel_initializer=kernel_initializer,\n",
    "    )(model)\n",
    "\n",
    "    # model = Flatten()(model)\n",
    "\n",
    "    model = Dense(32, activation='relu', kernel_initializer=kernel_initializer)(model)\n",
    "\n",
    "    # output = Dense(1, activation='sigmoid')(model)\n",
    "    output = Conv2D(1, kernel_size=3, padding='same', activation='relu', kernel_initializer=kernel_initializer)(model)\n",
    "\n",
    "    return Model(inputs=[model_input], outputs=output)\n",
    "\n",
    "lr = 0.001\n",
    "bs = 16\n",
    "epochs = 50\n",
    "\n",
    "def step_decay(epoch):\n",
    "    initial_lrate = lr\n",
    "    drop = 0.5\n",
    "    epochs_drop = 5\n",
    "    lrate = initial_lrate * math.pow(drop, math.floor((1 + epoch) / epochs_drop))\n",
    "    return lrate\n",
    "\n",
    "model = define_model(X_train.shape[1:], \"Generative\")\n",
    "\n",
    "model.compile(\n",
    "    optimizer=Adam(\n",
    "        learning_rate=lr,\n",
    "        name=\"Adam\",\n",
    "    ),\n",
    "    loss='BinaryCrossentropy',\n",
    ")"
   ]
  },
  {
   "cell_type": "code",
   "execution_count": 18,
   "metadata": {},
   "outputs": [
    {
     "name": "stdout",
     "output_type": "stream",
     "text": [
      "Model: \"model\"\n",
      "_________________________________________________________________\n",
      "Layer (type)                 Output Shape              Param #   \n",
      "=================================================================\n",
      "Generative (InputLayer)      [(None, 64, 64, 1)]       0         \n",
      "_________________________________________________________________\n",
      "conv2d (Conv2D)              (None, 64, 64, 64)        1664      \n",
      "_________________________________________________________________\n",
      "max_pooling2d (MaxPooling2D) (None, 32, 32, 64)        0         \n",
      "_________________________________________________________________\n",
      "conv2d_1 (Conv2D)            (None, 32, 32, 96)        55392     \n",
      "_________________________________________________________________\n",
      "max_pooling2d_1 (MaxPooling2 (None, 16, 16, 96)        0         \n",
      "_________________________________________________________________\n",
      "conv2d_2 (Conv2D)            (None, 16, 16, 96)        83040     \n",
      "_________________________________________________________________\n",
      "dense (Dense)                (None, 16, 16, 32)        3104      \n",
      "_________________________________________________________________\n",
      "conv2d_3 (Conv2D)            (None, 16, 16, 1)         289       \n",
      "=================================================================\n",
      "Total params: 143,489\n",
      "Trainable params: 143,489\n",
      "Non-trainable params: 0\n",
      "_________________________________________________________________\n"
     ]
    }
   ],
   "source": [
    "model.summary()"
   ]
  },
  {
   "cell_type": "code",
   "execution_count": 19,
   "metadata": {},
   "outputs": [],
   "source": [
    "model.fit(\n",
    "    x=X_train,\n",
    "    y=y_train,\n",
    "    epochs=epochs,\n",
    "    verbose=0,\n",
    "    batch_size=bs,\n",
    "    validation_split=0.2,\n",
    "    callbacks=[\n",
    "        LearningRateScheduler(step_decay),\n",
    "        EarlyStopping(\n",
    "            monitor=\"val_loss\",\n",
    "            patience=10,\n",
    "            min_delta=0.1,\n",
    "            restore_best_weights=True,\n",
    "        ),\n",
    "    ],\n",
    ")\n",
    "\n",
    "print(f\"Batch_size: {str(bs)}\")\n",
    "loss, mse, mae, log_cosh = model.evaluate(X_test, y_test, verbose=0)\n",
    "print(f\"Mean Square Error:      {round(mse, 3)}\")\n",
    "print(f\"Mean Absolute Error:    {round(mae, 3)}\")\n",
    "print(f\"log_cosh:               {round(log_cosh, 3)}\")\n",
    "print(\"\")\n",
    "\n"
   ]
  },
  {
   "cell_type": "code",
   "execution_count": null,
   "metadata": {},
   "outputs": [],
   "source": []
  }
 ],
 "metadata": {
  "kernelspec": {
   "display_name": "Python(tf_python)",
   "language": "python",
   "name": "tf_python"
  },
  "language_info": {
   "codemirror_mode": {
    "name": "ipython",
    "version": 3
   },
   "file_extension": ".py",
   "mimetype": "text/x-python",
   "name": "python",
   "nbconvert_exporter": "python",
   "pygments_lexer": "ipython3",
   "version": "3.8.5"
  }
 },
 "nbformat": 4,
 "nbformat_minor": 4
}
